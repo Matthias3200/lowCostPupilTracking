{
 "cells": [
  {
   "cell_type": "markdown",
   "metadata": {},
   "source": [
    "# 1. Import Dependencies"
   ]
  },
  {
   "cell_type": "code",
   "execution_count": 3,
   "metadata": {},
   "outputs": [
    {
     "name": "stdout",
     "output_type": "stream",
     "text": [
      "Requirement already satisfied: opencv-python in c:\\users\\bcpet\\desktop\\new tensorflow object detection\\tfodcourse\\tfod\\lib\\site-packages (4.6.0.66)"
     ]
    },
    {
     "name": "stderr",
     "output_type": "stream",
     "text": [
      "WARNING: Ignoring invalid distribution -rotobuf (c:\\users\\bcpet\\desktop\\new tensorflow object detection\\tfodcourse\\tfod\\lib\\site-packages)\n",
      "WARNING: Ignoring invalid distribution - (c:\\users\\bcpet\\desktop\\new tensorflow object detection\\tfodcourse\\tfod\\lib\\site-packages)\n",
      "WARNING: Ignoring invalid distribution -ensorflow (c:\\users\\bcpet\\desktop\\new tensorflow object detection\\tfodcourse\\tfod\\lib\\site-packages)\n",
      "WARNING: Ignoring invalid distribution -ensorboard (c:\\users\\bcpet\\desktop\\new tensorflow object detection\\tfodcourse\\tfod\\lib\\site-packages)\n",
      "WARNING: Ignoring invalid distribution -rotobuf (c:\\users\\bcpet\\desktop\\new tensorflow object detection\\tfodcourse\\tfod\\lib\\site-packages)\n",
      "WARNING: Ignoring invalid distribution - (c:\\users\\bcpet\\desktop\\new tensorflow object detection\\tfodcourse\\tfod\\lib\\site-packages)\n",
      "WARNING: Ignoring invalid distribution -ensorflow (c:\\users\\bcpet\\desktop\\new tensorflow object detection\\tfodcourse\\tfod\\lib\\site-packages)\n",
      "WARNING: Ignoring invalid distribution -ensorboard (c:\\users\\bcpet\\desktop\\new tensorflow object detection\\tfodcourse\\tfod\\lib\\site-packages)\n",
      "WARNING: Ignoring invalid distribution -rotobuf (c:\\users\\bcpet\\desktop\\new tensorflow object detection\\tfodcourse\\tfod\\lib\\site-packages)\n",
      "WARNING: Ignoring invalid distribution - (c:\\users\\bcpet\\desktop\\new tensorflow object detection\\tfodcourse\\tfod\\lib\\site-packages)\n",
      "WARNING: Ignoring invalid distribution -ensorflow (c:\\users\\bcpet\\desktop\\new tensorflow object detection\\tfodcourse\\tfod\\lib\\site-packages)\n",
      "WARNING: Ignoring invalid distribution -ensorboard (c:\\users\\bcpet\\desktop\\new tensorflow object detection\\tfodcourse\\tfod\\lib\\site-packages)\n",
      "WARNING: Ignoring invalid distribution -rotobuf (c:\\users\\bcpet\\desktop\\new tensorflow object detection\\tfodcourse\\tfod\\lib\\site-packages)\n",
      "WARNING: Ignoring invalid distribution - (c:\\users\\bcpet\\desktop\\new tensorflow object detection\\tfodcourse\\tfod\\lib\\site-packages)\n",
      "WARNING: Ignoring invalid distribution -ensorflow (c:\\users\\bcpet\\desktop\\new tensorflow object detection\\tfodcourse\\tfod\\lib\\site-packages)\n",
      "WARNING: Ignoring invalid distribution -ensorboard (c:\\users\\bcpet\\desktop\\new tensorflow object detection\\tfodcourse\\tfod\\lib\\site-packages)\n",
      "WARNING: Ignoring invalid distribution -rotobuf (c:\\users\\bcpet\\desktop\\new tensorflow object detection\\tfodcourse\\tfod\\lib\\site-packages)\n",
      "WARNING: Ignoring invalid distribution - (c:\\users\\bcpet\\desktop\\new tensorflow object detection\\tfodcourse\\tfod\\lib\\site-packages)\n",
      "WARNING: Ignoring invalid distribution -ensorflow (c:\\users\\bcpet\\desktop\\new tensorflow object detection\\tfodcourse\\tfod\\lib\\site-packages)\n",
      "WARNING: Ignoring invalid distribution -ensorboard (c:\\users\\bcpet\\desktop\\new tensorflow object detection\\tfodcourse\\tfod\\lib\\site-packages)\n",
      "WARNING: Ignoring invalid distribution -rotobuf (c:\\users\\bcpet\\desktop\\new tensorflow object detection\\tfodcourse\\tfod\\lib\\site-packages)\n",
      "WARNING: Ignoring invalid distribution - (c:\\users\\bcpet\\desktop\\new tensorflow object detection\\tfodcourse\\tfod\\lib\\site-packages)\n",
      "WARNING: Ignoring invalid distribution -ensorflow (c:\\users\\bcpet\\desktop\\new tensorflow object detection\\tfodcourse\\tfod\\lib\\site-packages)\n",
      "WARNING: Ignoring invalid distribution -ensorboard (c:\\users\\bcpet\\desktop\\new tensorflow object detection\\tfodcourse\\tfod\\lib\\site-packages)\n",
      "\n",
      "[notice] A new release of pip available: 22.2.1 -> 22.3.1\n",
      "[notice] To update, run: python.exe -m pip install --upgrade pip\n"
     ]
    },
    {
     "name": "stdout",
     "output_type": "stream",
     "text": [
      "\n",
      "Requirement already satisfied: numpy>=1.21.2 in c:\\users\\bcpet\\desktop\\new tensorflow object detection\\tfodcourse\\tfod\\lib\\site-packages (from opencv-python) (1.23.4)\n"
     ]
    }
   ],
   "source": [
    "!pip install opencv-python"
   ]
  },
  {
   "cell_type": "code",
   "execution_count": 4,
   "metadata": {},
   "outputs": [],
   "source": [
    "# Import opencv\n",
    "import cv2 \n",
    "\n",
    "# Import uuid\n",
    "import uuid\n",
    "\n",
    "# Import Operating System\n",
    "import os\n",
    "\n",
    "# Import time\n",
    "import time"
   ]
  },
  {
   "cell_type": "markdown",
   "metadata": {},
   "source": [
    "# 2. Define Images to Collect"
   ]
  },
  {
   "cell_type": "code",
   "execution_count": 5,
   "metadata": {},
   "outputs": [],
   "source": [
    "labels = ['pupil']"
   ]
  },
  {
   "cell_type": "markdown",
   "metadata": {},
   "source": [
    "# 3. Setup Folders "
   ]
  },
  {
   "cell_type": "code",
   "execution_count": 6,
   "metadata": {},
   "outputs": [],
   "source": [
    "IMAGES_PATH = os.path.join('Tensorflow', 'workspace', 'images', 'collectedimages')"
   ]
  },
  {
   "cell_type": "code",
   "execution_count": 7,
   "metadata": {},
   "outputs": [],
   "source": [
    "if not os.path.exists(IMAGES_PATH):\n",
    "    if os.name == 'posix':\n",
    "        !mkdir -p {IMAGES_PATH}\n",
    "    if os.name == 'nt':\n",
    "         !mkdir {IMAGES_PATH}\n",
    "for label in labels:\n",
    "    path = os.path.join(IMAGES_PATH, label)\n",
    "    if not os.path.exists(path):\n",
    "        !mkdir {path}"
   ]
  },
  {
   "cell_type": "code",
   "execution_count": null,
   "metadata": {},
   "outputs": [],
   "source": []
  },
  {
   "cell_type": "code",
   "execution_count": null,
   "metadata": {},
   "outputs": [],
   "source": []
  },
  {
   "cell_type": "markdown",
   "metadata": {},
   "source": [
    "***END"
   ]
  },
  {
   "cell_type": "code",
   "execution_count": null,
   "metadata": {},
   "outputs": [],
   "source": []
  },
  {
   "cell_type": "code",
   "execution_count": null,
   "metadata": {},
   "outputs": [],
   "source": []
  },
  {
   "cell_type": "markdown",
   "metadata": {},
   "source": [
    "# 4. Capture Images"
   ]
  },
  {
   "cell_type": "code",
   "execution_count": 18,
   "metadata": {},
   "outputs": [
    {
     "name": "stdout",
     "output_type": "stream",
     "text": [
      "Collecting images for thumbsup\n",
      "Collecting image 0\n",
      "Collecting image 1\n",
      "Collecting image 2\n",
      "Collecting image 3\n",
      "Collecting image 4\n"
     ]
    }
   ],
   "source": [
    "for label in labels:\n",
    "    cap = cv2.VideoCapture(0)\n",
    "    print('Collecting images for {}'.format(label))\n",
    "    time.sleep(5)\n",
    "    for imgnum in range(number_imgs):\n",
    "        print('Collecting image {}'.format(imgnum))\n",
    "        ret, frame = cap.read()\n",
    "        imgname = os.path.join(IMAGES_PATH,label,label+'.'+'{}.jpg'.format(str(uuid.uuid1())))\n",
    "        cv2.imwrite(imgname, frame)\n",
    "        cv2.imshow('frame', frame)\n",
    "        time.sleep(2)\n",
    "\n",
    "        if cv2.waitKey(1) & 0xFF == ord('q'):\n",
    "            break\n",
    "cap.release()\n",
    "cv2.destroyAllWindows()"
   ]
  },
  {
   "cell_type": "markdown",
   "metadata": {},
   "source": [
    "# 5. Image Labelling"
   ]
  },
  {
   "cell_type": "code",
   "execution_count": 15,
   "metadata": {},
   "outputs": [
    {
     "name": "stdout",
     "output_type": "stream",
     "text": [
      "Collecting pyqt5\n",
      "  Downloading PyQt5-5.15.7-cp37-abi3-win_amd64.whl (6.8 MB)\n",
      "     ---------------------------------------- 6.8/6.8 MB 10.6 MB/s eta 0:00:00\n",
      "Collecting lxml\n",
      "  Using cached lxml-4.9.1-cp310-cp310-win_amd64.whl (3.6 MB)\n",
      "Collecting PyQt5-Qt5>=5.15.0\n",
      "  Downloading PyQt5_Qt5-5.15.2-py3-none-win_amd64.whl (50.1 MB)\n",
      "     ---------------------------------------- 50.1/50.1 MB 9.6 MB/s eta 0:00:00\n",
      "Collecting PyQt5-sip<13,>=12.11\n",
      "  Downloading PyQt5_sip-12.11.0-cp310-cp310-win_amd64.whl (78 kB)\n",
      "     ---------------------------------------- 78.3/78.3 kB 4.5 MB/s eta 0:00:00\n",
      "Installing collected packages: PyQt5-Qt5, PyQt5-sip, lxml, pyqt5\n",
      "Successfully installed PyQt5-Qt5-5.15.2 PyQt5-sip-12.11.0 lxml-4.9.1 pyqt5-5.15.7\n"
     ]
    },
    {
     "name": "stderr",
     "output_type": "stream",
     "text": [
      "WARNING: Ignoring invalid distribution -rotobuf (c:\\users\\bcpet\\desktop\\new tensorflow object detection\\tfodcourse\\tfod\\lib\\site-packages)\n",
      "WARNING: Ignoring invalid distribution - (c:\\users\\bcpet\\desktop\\new tensorflow object detection\\tfodcourse\\tfod\\lib\\site-packages)\n",
      "WARNING: Ignoring invalid distribution -ensorflow (c:\\users\\bcpet\\desktop\\new tensorflow object detection\\tfodcourse\\tfod\\lib\\site-packages)\n",
      "WARNING: Ignoring invalid distribution -ensorboard (c:\\users\\bcpet\\desktop\\new tensorflow object detection\\tfodcourse\\tfod\\lib\\site-packages)\n",
      "WARNING: Ignoring invalid distribution -rotobuf (c:\\users\\bcpet\\desktop\\new tensorflow object detection\\tfodcourse\\tfod\\lib\\site-packages)\n",
      "WARNING: Ignoring invalid distribution - (c:\\users\\bcpet\\desktop\\new tensorflow object detection\\tfodcourse\\tfod\\lib\\site-packages)\n",
      "WARNING: Ignoring invalid distribution -ensorflow (c:\\users\\bcpet\\desktop\\new tensorflow object detection\\tfodcourse\\tfod\\lib\\site-packages)\n",
      "WARNING: Ignoring invalid distribution -ensorboard (c:\\users\\bcpet\\desktop\\new tensorflow object detection\\tfodcourse\\tfod\\lib\\site-packages)\n",
      "WARNING: Ignoring invalid distribution -rotobuf (c:\\users\\bcpet\\desktop\\new tensorflow object detection\\tfodcourse\\tfod\\lib\\site-packages)\n",
      "WARNING: Ignoring invalid distribution - (c:\\users\\bcpet\\desktop\\new tensorflow object detection\\tfodcourse\\tfod\\lib\\site-packages)\n",
      "WARNING: Ignoring invalid distribution -ensorflow (c:\\users\\bcpet\\desktop\\new tensorflow object detection\\tfodcourse\\tfod\\lib\\site-packages)\n",
      "WARNING: Ignoring invalid distribution -ensorboard (c:\\users\\bcpet\\desktop\\new tensorflow object detection\\tfodcourse\\tfod\\lib\\site-packages)\n",
      "WARNING: Ignoring invalid distribution -rotobuf (c:\\users\\bcpet\\desktop\\new tensorflow object detection\\tfodcourse\\tfod\\lib\\site-packages)\n",
      "WARNING: Ignoring invalid distribution - (c:\\users\\bcpet\\desktop\\new tensorflow object detection\\tfodcourse\\tfod\\lib\\site-packages)\n",
      "WARNING: Ignoring invalid distribution -ensorflow (c:\\users\\bcpet\\desktop\\new tensorflow object detection\\tfodcourse\\tfod\\lib\\site-packages)\n",
      "WARNING: Ignoring invalid distribution -ensorboard (c:\\users\\bcpet\\desktop\\new tensorflow object detection\\tfodcourse\\tfod\\lib\\site-packages)\n",
      "WARNING: Ignoring invalid distribution -rotobuf (c:\\users\\bcpet\\desktop\\new tensorflow object detection\\tfodcourse\\tfod\\lib\\site-packages)\n",
      "WARNING: Ignoring invalid distribution - (c:\\users\\bcpet\\desktop\\new tensorflow object detection\\tfodcourse\\tfod\\lib\\site-packages)\n",
      "WARNING: Ignoring invalid distribution -ensorflow (c:\\users\\bcpet\\desktop\\new tensorflow object detection\\tfodcourse\\tfod\\lib\\site-packages)\n",
      "WARNING: Ignoring invalid distribution -ensorboard (c:\\users\\bcpet\\desktop\\new tensorflow object detection\\tfodcourse\\tfod\\lib\\site-packages)\n",
      "WARNING: Ignoring invalid distribution -rotobuf (c:\\users\\bcpet\\desktop\\new tensorflow object detection\\tfodcourse\\tfod\\lib\\site-packages)\n",
      "WARNING: Ignoring invalid distribution - (c:\\users\\bcpet\\desktop\\new tensorflow object detection\\tfodcourse\\tfod\\lib\\site-packages)\n",
      "WARNING: Ignoring invalid distribution -ensorflow (c:\\users\\bcpet\\desktop\\new tensorflow object detection\\tfodcourse\\tfod\\lib\\site-packages)\n",
      "WARNING: Ignoring invalid distribution -ensorboard (c:\\users\\bcpet\\desktop\\new tensorflow object detection\\tfodcourse\\tfod\\lib\\site-packages)\n",
      "WARNING: Ignoring invalid distribution -rotobuf (c:\\users\\bcpet\\desktop\\new tensorflow object detection\\tfodcourse\\tfod\\lib\\site-packages)\n",
      "WARNING: Ignoring invalid distribution - (c:\\users\\bcpet\\desktop\\new tensorflow object detection\\tfodcourse\\tfod\\lib\\site-packages)\n",
      "WARNING: Ignoring invalid distribution -ensorflow (c:\\users\\bcpet\\desktop\\new tensorflow object detection\\tfodcourse\\tfod\\lib\\site-packages)\n",
      "WARNING: Ignoring invalid distribution -ensorboard (c:\\users\\bcpet\\desktop\\new tensorflow object detection\\tfodcourse\\tfod\\lib\\site-packages)\n",
      "ERROR: pip's dependency resolver does not currently take into account all the packages that are installed. This behaviour is the source of the following dependency conflicts.\n",
      "object-detection 0.1 requires apache-beam, which is not installed.\n",
      "object-detection 0.1 requires avro-python3, which is not installed.\n",
      "object-detection 0.1 requires contextlib2, which is not installed.\n",
      "object-detection 0.1 requires Cython, which is not installed.\n",
      "sacrebleu 2.2.0 requires portalocker, which is not installed.\n",
      "sacrebleu 2.2.0 requires regex, which is not installed.\n",
      "sacrebleu 2.2.0 requires tabulate>=0.8.9, which is not installed.\n",
      "tf-models-official 2.10.0 requires Cython, which is not installed.\n",
      "tf-models-official 2.10.0 requires google-api-python-client>=1.6.7, which is not installed.\n",
      "tf-models-official 2.10.0 requires immutabledict, which is not installed.\n",
      "tf-models-official 2.10.0 requires kaggle>=1.3.9, which is not installed.\n",
      "tf-models-official 2.10.0 requires oauth2client, which is not installed.\n",
      "tf-models-official 2.10.0 requires opencv-python-headless==4.5.2.52, which is not installed.\n",
      "tf-models-official 2.10.0 requires py-cpuinfo>=3.3.0, which is not installed.\n",
      "tf-models-official 2.10.0 requires sentencepiece, which is not installed.\n",
      "tf-models-official 2.10.0 requires seqeval, which is not installed.\n",
      "tf-models-official 2.10.0 requires tensorflow-datasets, which is not installed.\n",
      "tf-models-official 2.10.0 requires tensorflow-model-optimization>=0.4.1, which is not installed.\n",
      "tf-models-official 2.10.0 requires tensorflow-text~=2.10.0, which is not installed.\n",
      "object-detection 0.1 requires pyparsing==2.4.7, but you have pyparsing 3.0.9 which is incompatible.\n",
      "tf-models-official 2.10.0 requires pyyaml<6.0,>=5.1, but you have pyyaml 6.0 which is incompatible.\n",
      "WARNING: Ignoring invalid distribution -rotobuf (c:\\users\\bcpet\\desktop\\new tensorflow object detection\\tfodcourse\\tfod\\lib\\site-packages)\n",
      "WARNING: Ignoring invalid distribution - (c:\\users\\bcpet\\desktop\\new tensorflow object detection\\tfodcourse\\tfod\\lib\\site-packages)\n",
      "WARNING: Ignoring invalid distribution -ensorflow (c:\\users\\bcpet\\desktop\\new tensorflow object detection\\tfodcourse\\tfod\\lib\\site-packages)\n",
      "WARNING: Ignoring invalid distribution -ensorboard (c:\\users\\bcpet\\desktop\\new tensorflow object detection\\tfodcourse\\tfod\\lib\\site-packages)\n",
      "WARNING: Ignoring invalid distribution -rotobuf (c:\\users\\bcpet\\desktop\\new tensorflow object detection\\tfodcourse\\tfod\\lib\\site-packages)\n",
      "WARNING: Ignoring invalid distribution - (c:\\users\\bcpet\\desktop\\new tensorflow object detection\\tfodcourse\\tfod\\lib\\site-packages)\n",
      "WARNING: Ignoring invalid distribution -ensorflow (c:\\users\\bcpet\\desktop\\new tensorflow object detection\\tfodcourse\\tfod\\lib\\site-packages)\n",
      "WARNING: Ignoring invalid distribution -ensorboard (c:\\users\\bcpet\\desktop\\new tensorflow object detection\\tfodcourse\\tfod\\lib\\site-packages)\n",
      "WARNING: Ignoring invalid distribution -rotobuf (c:\\users\\bcpet\\desktop\\new tensorflow object detection\\tfodcourse\\tfod\\lib\\site-packages)\n",
      "WARNING: Ignoring invalid distribution - (c:\\users\\bcpet\\desktop\\new tensorflow object detection\\tfodcourse\\tfod\\lib\\site-packages)\n",
      "WARNING: Ignoring invalid distribution -ensorflow (c:\\users\\bcpet\\desktop\\new tensorflow object detection\\tfodcourse\\tfod\\lib\\site-packages)\n",
      "WARNING: Ignoring invalid distribution -ensorboard (c:\\users\\bcpet\\desktop\\new tensorflow object detection\\tfodcourse\\tfod\\lib\\site-packages)\n",
      "\n",
      "[notice] A new release of pip available: 22.2.1 -> 22.3.1\n",
      "[notice] To update, run: python.exe -m pip install --upgrade pip\n"
     ]
    }
   ],
   "source": [
    "!pip install --upgrade pyqt5 lxml"
   ]
  },
  {
   "cell_type": "code",
   "execution_count": 16,
   "metadata": {},
   "outputs": [
    {
     "name": "stdout",
     "output_type": "stream",
     "text": [
      "Package                      Version     Editable project location\n",
      "---------------------------- ----------- -------------------------------------------------------------------------------------------------\n",
      "absl-py                      1.3.0\n",
      "anyio                        3.6.2\n",
      "argon2-cffi                  21.3.0\n",
      "argon2-cffi-bindings         21.2.0\n",
      "asttokens                    2.1.0\n",
      "astunparse                   1.6.3\n",
      "attrs                        22.1.0\n",
      "backcall                     0.2.0\n",
      "beautifulsoup4               4.11.1\n",
      "bleach                       5.0.1\n",
      "cachetools                   5.2.0\n",
      "certifi                      2022.9.24\n",
      "cffi                         1.15.1\n",
      "charset-normalizer           2.1.1\n",
      "colorama                     0.4.6\n",
      "contourpy                    1.0.6\n",
      "cycler                       0.11.0\n",
      "debugpy                      1.6.3\n",
      "decorator                    5.1.1\n",
      "defusedxml                   0.7.1\n",
      "entrypoints                  0.4\n",
      "executing                    1.2.0\n",
      "fastjsonschema               2.16.2\n",
      "flatbuffers                  22.10.26\n",
      "fonttools                    4.38.0\n",
      "gast                         0.4.0\n",
      "gin                          0.1.6\n",
      "gin-config                   0.1.1\n",
      "google-auth                  2.14.1\n",
      "google-auth-oauthlib         0.4.6\n",
      "google-pasta                 0.2.0\n",
      "grpcio                       1.50.0\n",
      "h5py                         3.7.0\n",
      "idna                         3.4\n",
      "ipykernel                    6.17.1\n",
      "ipython                      8.6.0\n",
      "ipython-genutils             0.2.0\n",
      "ipywidgets                   8.0.2\n",
      "jedi                         0.18.1\n",
      "Jinja2                       3.1.2\n",
      "jsonschema                   4.17.0\n",
      "jupyter                      1.0.0\n",
      "jupyter_client               7.4.7\n",
      "jupyter-console              6.4.4\n",
      "jupyter_core                 5.0.0\n",
      "jupyter-server               1.23.2\n",
      "jupyterlab-pygments          0.2.2\n",
      "jupyterlab-widgets           3.0.3\n",
      "keras                        2.10.0\n",
      "Keras-Preprocessing          1.1.2\n",
      "kiwisolver                   1.4.4\n",
      "libclang                     14.0.6\n",
      "lvis                         0.5.3\n",
      "lxml                         4.9.1\n",
      "Markdown                     3.4.1\n",
      "MarkupSafe                   2.1.1\n",
      "matplotlib                   3.6.2\n",
      "matplotlib-inline            0.1.6\n",
      "mistune                      2.0.4\n",
      "nbclassic                    0.4.8\n",
      "nbclient                     0.7.0\n",
      "nbconvert                    7.2.5\n",
      "nbformat                     5.7.0\n",
      "nest-asyncio                 1.5.6\n",
      "notebook                     6.5.2\n",
      "notebook_shim                0.2.2\n",
      "numpy                        1.23.4\n",
      "oauthlib                     3.2.2\n",
      "object-detection             0.1\n",
      "opencv-python                4.6.0.66\n",
      "opt-einsum                   3.3.0\n",
      "packaging                    20.9\n",
      "pandas                       1.5.1\n",
      "pandocfilters                1.5.0\n",
      "parso                        0.8.3\n",
      "pickleshare                  0.7.5\n",
      "Pillow                       9.3.0\n",
      "pip                          22.2.1\n",
      "platformdirs                 2.5.4\n",
      "prometheus-client            0.15.0\n",
      "prompt-toolkit               3.0.32\n",
      "protobuf                     3.20.0\n",
      "psutil                       5.9.4\n",
      "pure-eval                    0.2.2\n",
      "pyasn1                       0.4.8\n",
      "pyasn1-modules               0.2.8\n",
      "pycocotools                  2.0.6\n",
      "pycparser                    2.21\n",
      "Pygments                     2.13.0\n",
      "pyparsing                    3.0.9\n",
      "PyQt5                        5.15.7\n",
      "PyQt5-Qt5                    5.15.2\n",
      "PyQt5-sip                    12.11.0\n",
      "pyrsistent                   0.19.2\n",
      "python-dateutil              2.8.2\n",
      "pytz                         2022.6\n",
      "pywin32                      305\n",
      "pywinpty                     2.0.9\n",
      "PyYAML                       6.0\n",
      "pyzmq                        24.0.1\n",
      "qtconsole                    5.4.0\n",
      "QtPy                         2.3.0\n",
      "requests                     2.28.1\n",
      "requests-oauthlib            1.3.1\n",
      "rsa                          4.9\n",
      "sacrebleu                    2.2.0\n",
      "scipy                        1.9.3\n",
      "Send2Trash                   1.8.0\n",
      "setuptools                   63.2.0\n",
      "six                          1.16.0\n",
      "slim                         0.1         c:\\users\\bcpet\\desktop\\new tensorflow object detection\\tfodcourse\\tensorflow\\models\\research\\slim\n",
      "sniffio                      1.3.0\n",
      "soupsieve                    2.3.2.post1\n",
      "stack-data                   0.6.1\n",
      "tensorboard                  2.10.1\n",
      "tensorboard-data-server      0.6.1\n",
      "tensorboard-plugin-wit       1.8.1\n",
      "tensorflow                   2.10.1\n",
      "tensorflow-addons            0.18.0\n",
      "tensorflow-estimator         2.10.0\n",
      "tensorflow-gpu               2.10.1\n",
      "tensorflow-hub               0.12.0\n",
      "tensorflow-intel             2.11.0\n",
      "tensorflow-io                0.27.0\n",
      "tensorflow-io-gcs-filesystem 0.27.0\n",
      "tensorflowjs                 3.19.0\n",
      "termcolor                    2.1.0\n",
      "terminado                    0.17.0\n",
      "tf-models-official           2.10.0\n",
      "tf-slim                      1.1.0\n",
      "tinycss2                     1.2.1\n",
      "tornado                      6.2\n",
      "traitlets                    5.5.0\n",
      "typeguard                    2.13.3\n",
      "typing_extensions            4.4.0\n",
      "urllib3                      1.26.12\n",
      "wcwidth                      0.2.5\n",
      "webencodings                 0.5.1\n",
      "websocket-client             1.4.2\n",
      "Werkzeug                     2.2.2\n",
      "wget                         3.2\n",
      "wheel                        0.38.4\n",
      "widgetsnbextension           4.0.3\n",
      "wrapt                        1.14.1\n"
     ]
    },
    {
     "name": "stderr",
     "output_type": "stream",
     "text": [
      "WARNING: Ignoring invalid distribution -rotobuf (c:\\users\\bcpet\\desktop\\new tensorflow object detection\\tfodcourse\\tfod\\lib\\site-packages)\n",
      "WARNING: Ignoring invalid distribution - (c:\\users\\bcpet\\desktop\\new tensorflow object detection\\tfodcourse\\tfod\\lib\\site-packages)\n",
      "WARNING: Ignoring invalid distribution -ensorflow (c:\\users\\bcpet\\desktop\\new tensorflow object detection\\tfodcourse\\tfod\\lib\\site-packages)\n",
      "WARNING: Ignoring invalid distribution -ensorboard (c:\\users\\bcpet\\desktop\\new tensorflow object detection\\tfodcourse\\tfod\\lib\\site-packages)\n",
      "WARNING: Ignoring invalid distribution -rotobuf (c:\\users\\bcpet\\desktop\\new tensorflow object detection\\tfodcourse\\tfod\\lib\\site-packages)\n",
      "WARNING: Ignoring invalid distribution - (c:\\users\\bcpet\\desktop\\new tensorflow object detection\\tfodcourse\\tfod\\lib\\site-packages)\n",
      "WARNING: Ignoring invalid distribution -ensorflow (c:\\users\\bcpet\\desktop\\new tensorflow object detection\\tfodcourse\\tfod\\lib\\site-packages)\n",
      "WARNING: Ignoring invalid distribution -ensorboard (c:\\users\\bcpet\\desktop\\new tensorflow object detection\\tfodcourse\\tfod\\lib\\site-packages)\n",
      "WARNING: Ignoring invalid distribution -rotobuf (c:\\users\\bcpet\\desktop\\new tensorflow object detection\\tfodcourse\\tfod\\lib\\site-packages)\n",
      "WARNING: Ignoring invalid distribution - (c:\\users\\bcpet\\desktop\\new tensorflow object detection\\tfodcourse\\tfod\\lib\\site-packages)\n",
      "WARNING: Ignoring invalid distribution -ensorflow (c:\\users\\bcpet\\desktop\\new tensorflow object detection\\tfodcourse\\tfod\\lib\\site-packages)\n",
      "WARNING: Ignoring invalid distribution -ensorboard (c:\\users\\bcpet\\desktop\\new tensorflow object detection\\tfodcourse\\tfod\\lib\\site-packages)\n",
      "WARNING: Ignoring invalid distribution -rotobuf (c:\\users\\bcpet\\desktop\\new tensorflow object detection\\tfodcourse\\tfod\\lib\\site-packages)\n",
      "WARNING: Ignoring invalid distribution - (c:\\users\\bcpet\\desktop\\new tensorflow object detection\\tfodcourse\\tfod\\lib\\site-packages)\n",
      "WARNING: Ignoring invalid distribution -ensorflow (c:\\users\\bcpet\\desktop\\new tensorflow object detection\\tfodcourse\\tfod\\lib\\site-packages)\n",
      "WARNING: Ignoring invalid distribution -ensorboard (c:\\users\\bcpet\\desktop\\new tensorflow object detection\\tfodcourse\\tfod\\lib\\site-packages)\n",
      "\n",
      "[notice] A new release of pip available: 22.2.1 -> 22.3.1\n",
      "[notice] To update, run: python.exe -m pip install --upgrade pip\n"
     ]
    }
   ],
   "source": [
    "!pip list "
   ]
  },
  {
   "cell_type": "code",
   "execution_count": 8,
   "metadata": {},
   "outputs": [],
   "source": [
    "LABELIMG_PATH = os.path.join('Tensorflow', 'labelimg')"
   ]
  },
  {
   "cell_type": "code",
   "execution_count": 9,
   "metadata": {},
   "outputs": [
    {
     "name": "stderr",
     "output_type": "stream",
     "text": [
      "Cloning into 'Tensorflow\\labelimg'...\n"
     ]
    }
   ],
   "source": [
    "if not os.path.exists(LABELIMG_PATH):\n",
    "    !mkdir {LABELIMG_PATH}\n",
    "    !git clone https://github.com/tzutalin/labelImg {LABELIMG_PATH}"
   ]
  },
  {
   "cell_type": "code",
   "execution_count": 17,
   "metadata": {},
   "outputs": [],
   "source": [
    "if os.name == 'posix':\n",
    "    !make qt5py3\n",
    "if os.name =='nt':\n",
    "    !cd {LABELIMG_PATH} && pyrcc5 -o libs/resources.py resources.qrc"
   ]
  },
  {
   "cell_type": "code",
   "execution_count": 21,
   "metadata": {},
   "outputs": [
    {
     "name": "stdout",
     "output_type": "stream",
     "text": [
      "^C\n"
     ]
    }
   ],
   "source": [
    "!cd {LABELIMG_PATH} && python labelImg.py"
   ]
  },
  {
   "cell_type": "markdown",
   "metadata": {},
   "source": [
    "# 6. Move them into a Training and Testing Partition"
   ]
  },
  {
   "cell_type": "markdown",
   "metadata": {},
   "source": [
    "# OPTIONAL - 7. Compress them for Colab Training"
   ]
  },
  {
   "cell_type": "code",
   "execution_count": 20,
   "metadata": {},
   "outputs": [],
   "source": [
    "TRAIN_PATH = os.path.join('Tensorflow', 'workspace', 'images', 'train')\n",
    "TEST_PATH = os.path.join('Tensorflow', 'workspace', 'images', 'test')\n",
    "ARCHIVE_PATH = os.path.join('Tensorflow', 'workspace', 'images', 'archive.tar.gz')"
   ]
  },
  {
   "cell_type": "code",
   "execution_count": 21,
   "metadata": {},
   "outputs": [],
   "source": [
    "!tar -czf {ARCHIVE_PATH} {TRAIN_PATH} {TEST_PATH}"
   ]
  },
  {
   "cell_type": "code",
   "execution_count": null,
   "metadata": {},
   "outputs": [],
   "source": []
  }
 ],
 "metadata": {
  "kernelspec": {
   "display_name": "tfod",
   "language": "python",
   "name": "tfod"
  },
  "language_info": {
   "codemirror_mode": {
    "name": "ipython",
    "version": 3
   },
   "file_extension": ".py",
   "mimetype": "text/x-python",
   "name": "python",
   "nbconvert_exporter": "python",
   "pygments_lexer": "ipython3",
   "version": "3.10.6"
  }
 },
 "nbformat": 4,
 "nbformat_minor": 2
}
