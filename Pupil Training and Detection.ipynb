{
 "cells": [
  {
   "cell_type": "markdown",
   "metadata": {},
   "source": [
    "***This is a script to train a model to detect the pupil. "
   ]
  },
  {
   "cell_type": "markdown",
   "metadata": {},
   "source": [
    "Notebook copied and modified from https://github.com/nicknochnack/TFODCourse, Image Collection.ipynb and Training and Detection.ipynb\n",
    "The Image Collection.ipynb does not need to be opened as data used in the training has already been annotated and provided\n",
    "***To set up your computer for tensorflow object detection, the following steps need to be completed in the command prompt \n",
    "0) download visual studios with desktop development with C++ added\n",
    "1) make sure python is downloaded and added to you paths \n",
    "2) create a folder named Tensorflow Object Detction on the desktop \n",
    "3) cd into that directory\n",
    "4) clone github repository #make sure git is installed\n",
    "    \"git clone https://github.com/nicknochnack/TFODCourse\"\n",
    "5) cd into TFODCourse\n",
    "6) create a python virtual enviroment \n",
    "    \"python -m venv tfod\"\n",
    "7) activate venv\n",
    "   \"source tfod/bin/activate\" # Linux\n",
    "   \".\\tfod\\Scripts\\activate\" # Windows \n",
    "8) install jupyter notebook \n",
    "    \"pip install jupyter notebook\"\n",
    "9) associate your venv with your ipykernel\n",
    "   \"pip install ipykernel\"\n",
    "    \"python -m ipykernel install --user --name=tfod\"\n",
    "10) open jupyter notebook\n",
    "    \"jupyter notebook\"\n",
    "11) make sure your kernel is set to your venv in the top right corner of the notebook\n",
    "12) run through cells starting from Setup Paths \n",
    "13) some additional libraries will need to be installed using the corresponding cells below\n",
    "\n"
   ]
  },
  {
   "cell_type": "markdown",
   "metadata": {},
   "source": [
    "***Ignore these cells(retraining models); move to Setup Paths Cell"
   ]
  },
  {
   "cell_type": "code",
   "execution_count": 187,
   "metadata": {},
   "outputs": [],
   "source": [
    "labels = [{'name':'pupil', 'id':1}]\n",
    "\n",
    "with open(files['LABELMAP'], 'w') as f:\n",
    "    for label in labels:\n",
    "        f.write('item { \\n')\n",
    "        f.write('\\tname:\\'{}\\'\\n'.format(label['name']))\n",
    "        f.write('\\tid:{}\\n'.format(label['id']))\n",
    "        f.write('}\\n')"
   ]
  },
  {
   "cell_type": "code",
   "execution_count": 188,
   "metadata": {},
   "outputs": [],
   "source": [
    "if not os.path.exists(files['TF_RECORD_SCRIPT']):\n",
    "    !git clone https://github.com/nicknochnack/GenerateTFRecord {paths['SCRIPTS_PATH']}"
   ]
  },
  {
   "cell_type": "code",
   "execution_count": 189,
   "metadata": {},
   "outputs": [
    {
     "name": "stdout",
     "output_type": "stream",
     "text": [
      "Successfully created the TFRecord file: Tensorflow\\workspace\\annotations\\train.record\n",
      "Successfully created the TFRecord file: Tensorflow\\workspace\\annotations\\test.record\n"
     ]
    }
   ],
   "source": [
    "!python {files['TF_RECORD_SCRIPT']} -x {os.path.join(paths['IMAGE_PATH'], 'train')} -l {files['LABELMAP']} -o {os.path.join(paths['ANNOTATION_PATH'], 'train.record')} \n",
    "!python {files['TF_RECORD_SCRIPT']} -x {os.path.join(paths['IMAGE_PATH'], 'test')} -l {files['LABELMAP']} -o {os.path.join(paths['ANNOTATION_PATH'], 'test.record')} "
   ]
  },
  {
   "cell_type": "code",
   "execution_count": 190,
   "metadata": {},
   "outputs": [
    {
     "name": "stdout",
     "output_type": "stream",
     "text": [
      "        1 file(s) copied.\n"
     ]
    }
   ],
   "source": [
    "if os.name =='posix':\n",
    "    !cp {os.path.join(paths['PRETRAINED_MODEL_PATH'], PRETRAINED_MODEL_NAME, 'pipeline.config')} {os.path.join(paths['CHECKPOINT_PATH'])}\n",
    "if os.name == 'nt':\n",
    "    !copy {os.path.join(paths['PRETRAINED_MODEL_PATH'], PRETRAINED_MODEL_NAME, 'pipeline.config')} {os.path.join(paths['CHECKPOINT_PATH'])}"
   ]
  },
  {
   "cell_type": "code",
   "execution_count": 196,
   "metadata": {},
   "outputs": [],
   "source": [
    "config = config_util.get_configs_from_pipeline_file(files['PIPELINE_CONFIG'])"
   ]
  },
  {
   "cell_type": "code",
   "execution_count": 197,
   "metadata": {},
   "outputs": [
    {
     "data": {
      "text/plain": [
       "{'model': ssd {\n",
       "   num_classes: 1\n",
       "   image_resizer {\n",
       "     fixed_shape_resizer {\n",
       "       height: 320\n",
       "       width: 320\n",
       "     }\n",
       "   }\n",
       "   feature_extractor {\n",
       "     type: \"ssd_mobilenet_v2_fpn_keras\"\n",
       "     depth_multiplier: 1.0\n",
       "     min_depth: 16\n",
       "     conv_hyperparams {\n",
       "       regularizer {\n",
       "         l2_regularizer {\n",
       "           weight: 3.9999998989515007e-05\n",
       "         }\n",
       "       }\n",
       "       initializer {\n",
       "         random_normal_initializer {\n",
       "           mean: 0.0\n",
       "           stddev: 0.009999999776482582\n",
       "         }\n",
       "       }\n",
       "       activation: RELU_6\n",
       "       batch_norm {\n",
       "         decay: 0.996999979019165\n",
       "         scale: true\n",
       "         epsilon: 0.0010000000474974513\n",
       "       }\n",
       "     }\n",
       "     use_depthwise: true\n",
       "     override_base_feature_extractor_hyperparams: true\n",
       "     fpn {\n",
       "       min_level: 3\n",
       "       max_level: 7\n",
       "       additional_layer_depth: 128\n",
       "     }\n",
       "   }\n",
       "   box_coder {\n",
       "     faster_rcnn_box_coder {\n",
       "       y_scale: 10.0\n",
       "       x_scale: 10.0\n",
       "       height_scale: 5.0\n",
       "       width_scale: 5.0\n",
       "     }\n",
       "   }\n",
       "   matcher {\n",
       "     argmax_matcher {\n",
       "       matched_threshold: 0.5\n",
       "       unmatched_threshold: 0.5\n",
       "       ignore_thresholds: false\n",
       "       negatives_lower_than_unmatched: true\n",
       "       force_match_for_each_row: true\n",
       "       use_matmul_gather: true\n",
       "     }\n",
       "   }\n",
       "   similarity_calculator {\n",
       "     iou_similarity {\n",
       "     }\n",
       "   }\n",
       "   box_predictor {\n",
       "     weight_shared_convolutional_box_predictor {\n",
       "       conv_hyperparams {\n",
       "         regularizer {\n",
       "           l2_regularizer {\n",
       "             weight: 3.9999998989515007e-05\n",
       "           }\n",
       "         }\n",
       "         initializer {\n",
       "           random_normal_initializer {\n",
       "             mean: 0.0\n",
       "             stddev: 0.009999999776482582\n",
       "           }\n",
       "         }\n",
       "         activation: RELU_6\n",
       "         batch_norm {\n",
       "           decay: 0.996999979019165\n",
       "           scale: true\n",
       "           epsilon: 0.0010000000474974513\n",
       "         }\n",
       "       }\n",
       "       depth: 128\n",
       "       num_layers_before_predictor: 4\n",
       "       kernel_size: 3\n",
       "       class_prediction_bias_init: -4.599999904632568\n",
       "       share_prediction_tower: true\n",
       "       use_depthwise: true\n",
       "     }\n",
       "   }\n",
       "   anchor_generator {\n",
       "     multiscale_anchor_generator {\n",
       "       min_level: 3\n",
       "       max_level: 7\n",
       "       anchor_scale: 4.0\n",
       "       aspect_ratios: 1.0\n",
       "       aspect_ratios: 2.0\n",
       "       aspect_ratios: 0.5\n",
       "       scales_per_octave: 2\n",
       "     }\n",
       "   }\n",
       "   post_processing {\n",
       "     batch_non_max_suppression {\n",
       "       score_threshold: 9.99999993922529e-09\n",
       "       iou_threshold: 0.6000000238418579\n",
       "       max_detections_per_class: 100\n",
       "       max_total_detections: 100\n",
       "       use_static_shapes: false\n",
       "     }\n",
       "     score_converter: SIGMOID\n",
       "   }\n",
       "   normalize_loss_by_num_matches: true\n",
       "   loss {\n",
       "     localization_loss {\n",
       "       weighted_smooth_l1 {\n",
       "       }\n",
       "     }\n",
       "     classification_loss {\n",
       "       weighted_sigmoid_focal {\n",
       "         gamma: 2.0\n",
       "         alpha: 0.25\n",
       "       }\n",
       "     }\n",
       "     classification_weight: 1.0\n",
       "     localization_weight: 1.0\n",
       "   }\n",
       "   encode_background_as_zeros: true\n",
       "   normalize_loc_loss_by_codesize: true\n",
       "   inplace_batchnorm_update: true\n",
       "   freeze_batchnorm: false\n",
       " },\n",
       " 'train_config': batch_size: 10\n",
       " data_augmentation_options {\n",
       "   random_horizontal_flip {\n",
       "   }\n",
       " }\n",
       " data_augmentation_options {\n",
       "   random_crop_image {\n",
       "     min_object_covered: 0.0\n",
       "     min_aspect_ratio: 0.75\n",
       "     max_aspect_ratio: 3.0\n",
       "     min_area: 0.75\n",
       "     max_area: 1.0\n",
       "     overlap_thresh: 0.0\n",
       "   }\n",
       " }\n",
       " sync_replicas: true\n",
       " optimizer {\n",
       "   momentum_optimizer {\n",
       "     learning_rate {\n",
       "       cosine_decay_learning_rate {\n",
       "         learning_rate_base: 0.0010000000474974513\n",
       "         total_steps: 8000\n",
       "         warmup_learning_rate: 0.0010000000474974513\n",
       "         warmup_steps: 1000\n",
       "       }\n",
       "     }\n",
       "     momentum_optimizer_value: 0.8999999761581421\n",
       "   }\n",
       "   use_moving_average: false\n",
       " }\n",
       " fine_tune_checkpoint: \"Tensorflow\\\\workspace\\\\pre-trained-models\\\\ssd_mobilenet_v2_fpnlite_320x320_coco17_tpu-8\\\\checkpoint\\\\ckpt-0\"\n",
       " num_steps: 8000\n",
       " startup_delay_steps: 0.0\n",
       " replicas_to_aggregate: 8\n",
       " max_number_of_boxes: 100\n",
       " unpad_groundtruth_tensors: false\n",
       " fine_tune_checkpoint_type: \"detection\"\n",
       " fine_tune_checkpoint_version: V2,\n",
       " 'train_input_config': label_map_path: \"Tensorflow\\\\workspace\\\\annotations\\\\label_map.pbtxt\"\n",
       " tf_record_input_reader {\n",
       "   input_path: \"Tensorflow\\\\workspace\\\\annotations\\\\train.record\"\n",
       " },\n",
       " 'eval_config': metrics_set: \"coco_detection_metrics\"\n",
       " use_moving_averages: false,\n",
       " 'eval_input_configs': [label_map_path: \"Tensorflow\\\\workspace\\\\annotations\\\\label_map.pbtxt\"\n",
       " shuffle: false\n",
       " num_epochs: 1\n",
       " tf_record_input_reader {\n",
       "   input_path: \"Tensorflow\\\\workspace\\\\annotations\\\\test.record\"\n",
       " }\n",
       " ],\n",
       " 'eval_input_config': label_map_path: \"Tensorflow\\\\workspace\\\\annotations\\\\label_map.pbtxt\"\n",
       " shuffle: false\n",
       " num_epochs: 1\n",
       " tf_record_input_reader {\n",
       "   input_path: \"Tensorflow\\\\workspace\\\\annotations\\\\test.record\"\n",
       " }}"
      ]
     },
     "execution_count": 197,
     "metadata": {},
     "output_type": "execute_result"
    }
   ],
   "source": [
    "config"
   ]
  },
  {
   "cell_type": "code",
   "execution_count": 198,
   "metadata": {},
   "outputs": [],
   "source": [
    "pipeline_config = pipeline_pb2.TrainEvalPipelineConfig()\n",
    "with tf.io.gfile.GFile(files['PIPELINE_CONFIG'], \"r\") as f:                                                                                                                                                                                                                     \n",
    "    proto_str = f.read()                                                                                                                                                                                                                                          \n",
    "    text_format.Merge(proto_str, pipeline_config)  "
   ]
  },
  {
   "cell_type": "code",
   "execution_count": 199,
   "metadata": {},
   "outputs": [],
   "source": [
    "pipeline_config.model.ssd.num_classes = len(labels)\n",
    "pipeline_config.train_config.batch_size = 1\n",
    "pipeline_config.train_config.fine_tune_checkpoint = os.path.join(paths['PRETRAINED_MODEL_PATH'], PRETRAINED_MODEL_NAME, 'checkpoint', 'ckpt-0')\n",
    "pipeline_config.train_config.fine_tune_checkpoint_type = \"detection\"\n",
    "pipeline_config.train_input_reader.label_map_path= files['LABELMAP']\n",
    "pipeline_config.train_input_reader.tf_record_input_reader.input_path[:] = [os.path.join(paths['ANNOTATION_PATH'], 'train.record')]\n",
    "pipeline_config.eval_input_reader[0].label_map_path = files['LABELMAP']\n",
    "pipeline_config.eval_input_reader[0].tf_record_input_reader.input_path[:] = [os.path.join(paths['ANNOTATION_PATH'], 'test.record')]"
   ]
  },
  {
   "cell_type": "code",
   "execution_count": 200,
   "metadata": {},
   "outputs": [],
   "source": [
    "config_text = text_format.MessageToString(pipeline_config)                                                                                                                                                                                                        \n",
    "with tf.io.gfile.GFile(files['PIPELINE_CONFIG'], \"wb\") as f:                                                                                                                                                                                                                     \n",
    "    f.write(config_text)   "
   ]
  },
  {
   "cell_type": "code",
   "execution_count": 201,
   "metadata": {},
   "outputs": [],
   "source": [
    "TRAINING_SCRIPT = os.path.join(paths['APIMODEL_PATH'], 'research', 'object_detection', 'model_main_tf2.py')"
   ]
  },
  {
   "cell_type": "code",
   "execution_count": 204,
   "metadata": {},
   "outputs": [],
   "source": [
    "command = \"python {} --model_dir={} --pipeline_config_path={} --num_train_steps=8000\".format(TRAINING_SCRIPT, paths['CHECKPOINT_PATH'],files['PIPELINE_CONFIG'])"
   ]
  },
  {
   "cell_type": "code",
   "execution_count": 205,
   "metadata": {},
   "outputs": [
    {
     "name": "stdout",
     "output_type": "stream",
     "text": [
      "python Tensorflow\\models\\research\\object_detection\\model_main_tf2.py --model_dir=Tensorflow\\workspace\\models\\my_ssd_mobnet_pupil_N18 --pipeline_config_path=Tensorflow\\workspace\\models\\my_ssd_mobnet_pupil_N18\\pipeline.config --num_train_steps=8000\n"
     ]
    }
   ],
   "source": [
    "print(command)"
   ]
  },
  {
   "cell_type": "code",
   "execution_count": 236,
   "metadata": {},
   "outputs": [],
   "source": [
    "command = \"python {} --model_dir={} --pipeline_config_path={} --checkpoint_dir={}\".format(TRAINING_SCRIPT, paths['CHECKPOINT_PATH'],files['PIPELINE_CONFIG'], paths['CHECKPOINT_PATH'])"
   ]
  },
  {
   "cell_type": "code",
   "execution_count": 237,
   "metadata": {},
   "outputs": [
    {
     "name": "stdout",
     "output_type": "stream",
     "text": [
      "python Tensorflow\\models\\research\\object_detection\\model_main_tf2.py --model_dir=Tensorflow\\workspace\\models\\my_ssd_mobnet_pupil_N15 --pipeline_config_path=Tensorflow\\workspace\\models\\my_ssd_mobnet_pupil_N15\\pipeline.config --checkpoint_dir=Tensorflow\\workspace\\models\\my_ssd_mobnet_pupil_N15\n"
     ]
    }
   ],
   "source": [
    "print(command)"
   ]
  },
  {
   "cell_type": "markdown",
   "metadata": {
    "id": "QUANWN3rpfC9"
   },
   "source": [
    "# 0. Setup Paths"
   ]
  },
  {
   "cell_type": "code",
   "execution_count": 1,
   "metadata": {
    "id": "146BB11JpfDA"
   },
   "outputs": [],
   "source": [
    "import os"
   ]
  },
  {
   "cell_type": "code",
   "execution_count": 208,
   "metadata": {
    "id": "42hJEdo_pfDB"
   },
   "outputs": [],
   "source": [
    "CUSTOM_MODEL_NAME = 'my_ssd_mobnet_pupil_N15' #change model name for new model\n",
    "PRETRAINED_MODEL_NAME = 'ssd_mobilenet_v2_fpnlite_320x320_coco17_tpu-8'\n",
    "PRETRAINED_MODEL_URL = 'http://download.tensorflow.org/models/object_detection/tf2/20200711/ssd_mobilenet_v2_fpnlite_320x320_coco17_tpu-8.tar.gz'\n",
    "TF_RECORD_SCRIPT_NAME = 'generate_tfrecord.py'\n",
    "LABEL_MAP_NAME = 'label_map.pbtxt'"
   ]
  },
  {
   "cell_type": "code",
   "execution_count": 209,
   "metadata": {
    "id": "hbPhYVy_pfDB"
   },
   "outputs": [],
   "source": [
    "paths = {\n",
    "    'WORKSPACE_PATH': os.path.join('Tensorflow', 'workspace'),\n",
    "    'SCRIPTS_PATH': os.path.join('Tensorflow','scripts'),\n",
    "    'APIMODEL_PATH': os.path.join('Tensorflow','models'),\n",
    "    'ANNOTATION_PATH': os.path.join('Tensorflow', 'workspace','annotations'),\n",
    "    'IMAGE_PATH': os.path.join('Tensorflow', 'workspace','images'),\n",
    "    'MODEL_PATH': os.path.join('Tensorflow', 'workspace','models'),\n",
    "    'PRETRAINED_MODEL_PATH': os.path.join('Tensorflow', 'workspace','pre-trained-models'),\n",
    "    'CHECKPOINT_PATH': os.path.join('Tensorflow', 'workspace','models',CUSTOM_MODEL_NAME), \n",
    "    'OUTPUT_PATH': os.path.join('Tensorflow', 'workspace','models',CUSTOM_MODEL_NAME, 'export'), \n",
    "    'TFJS_PATH':os.path.join('Tensorflow', 'workspace','models',CUSTOM_MODEL_NAME, 'tfjsexport'), \n",
    "    'TFLITE_PATH':os.path.join('Tensorflow', 'workspace','models',CUSTOM_MODEL_NAME, 'tfliteexport'), \n",
    "    'PROTOC_PATH':os.path.join('Tensorflow','protoc')\n",
    " }"
   ]
  },
  {
   "cell_type": "code",
   "execution_count": 210,
   "metadata": {
    "id": "LwhWZMI0pfDC"
   },
   "outputs": [],
   "source": [
    "files = {\n",
    "    'PIPELINE_CONFIG':os.path.join('Tensorflow', 'workspace','models', CUSTOM_MODEL_NAME, 'pipeline.config'),\n",
    "    'TF_RECORD_SCRIPT': os.path.join(paths['SCRIPTS_PATH'], TF_RECORD_SCRIPT_NAME), \n",
    "    'LABELMAP': os.path.join(paths['ANNOTATION_PATH'], LABEL_MAP_NAME)\n",
    "}"
   ]
  },
  {
   "cell_type": "code",
   "execution_count": 211,
   "metadata": {
    "id": "HR-TfDGrpfDC"
   },
   "outputs": [],
   "source": [
    "for path in paths.values():\n",
    "    if not os.path.exists(path):\n",
    "        if os.name == 'posix':\n",
    "            !mkdir -p {path}\n",
    "        if os.name == 'nt':\n",
    "            !mkdir {path}"
   ]
  },
  {
   "cell_type": "markdown",
   "metadata": {
    "id": "OLU-rs_ipfDE"
   },
   "source": [
    "# 1. Download TF Models Pretrained Models from Tensorflow Model Zoo and Install TFOD"
   ]
  },
  {
   "cell_type": "code",
   "execution_count": null,
   "metadata": {},
   "outputs": [],
   "source": [
    "# https://www.tensorflow.org/install/source_windows"
   ]
  },
  {
   "cell_type": "code",
   "execution_count": 6,
   "metadata": {
    "id": "K-Cmz2edpfDE",
    "scrolled": false
   },
   "outputs": [
    {
     "name": "stdout",
     "output_type": "stream",
     "text": [
      "Requirement already satisfied: wget in c:\\users\\bcpet\\desktop\\new tensorflow object detection\\tfodcourse\\tfod\\lib\\site-packages (3.2)\n"
     ]
    },
    {
     "name": "stderr",
     "output_type": "stream",
     "text": [
      "WARNING: Ignoring invalid distribution -otobuf (c:\\users\\bcpet\\desktop\\new tensorflow object detection\\tfodcourse\\tfod\\lib\\site-packages)\n",
      "WARNING: Ignoring invalid distribution -rotobuf (c:\\users\\bcpet\\desktop\\new tensorflow object detection\\tfodcourse\\tfod\\lib\\site-packages)\n",
      "WARNING: Ignoring invalid distribution - (c:\\users\\bcpet\\desktop\\new tensorflow object detection\\tfodcourse\\tfod\\lib\\site-packages)\n",
      "WARNING: Ignoring invalid distribution -ensorflow (c:\\users\\bcpet\\desktop\\new tensorflow object detection\\tfodcourse\\tfod\\lib\\site-packages)\n",
      "WARNING: Ignoring invalid distribution -otobuf (c:\\users\\bcpet\\desktop\\new tensorflow object detection\\tfodcourse\\tfod\\lib\\site-packages)\n",
      "WARNING: Ignoring invalid distribution -rotobuf (c:\\users\\bcpet\\desktop\\new tensorflow object detection\\tfodcourse\\tfod\\lib\\site-packages)\n",
      "WARNING: Ignoring invalid distribution - (c:\\users\\bcpet\\desktop\\new tensorflow object detection\\tfodcourse\\tfod\\lib\\site-packages)\n",
      "WARNING: Ignoring invalid distribution -ensorflow (c:\\users\\bcpet\\desktop\\new tensorflow object detection\\tfodcourse\\tfod\\lib\\site-packages)\n",
      "WARNING: Ignoring invalid distribution -otobuf (c:\\users\\bcpet\\desktop\\new tensorflow object detection\\tfodcourse\\tfod\\lib\\site-packages)\n",
      "WARNING: Ignoring invalid distribution -rotobuf (c:\\users\\bcpet\\desktop\\new tensorflow object detection\\tfodcourse\\tfod\\lib\\site-packages)\n",
      "WARNING: Ignoring invalid distribution - (c:\\users\\bcpet\\desktop\\new tensorflow object detection\\tfodcourse\\tfod\\lib\\site-packages)\n",
      "WARNING: Ignoring invalid distribution -ensorflow (c:\\users\\bcpet\\desktop\\new tensorflow object detection\\tfodcourse\\tfod\\lib\\site-packages)\n",
      "WARNING: Ignoring invalid distribution -otobuf (c:\\users\\bcpet\\desktop\\new tensorflow object detection\\tfodcourse\\tfod\\lib\\site-packages)\n",
      "WARNING: Ignoring invalid distribution -rotobuf (c:\\users\\bcpet\\desktop\\new tensorflow object detection\\tfodcourse\\tfod\\lib\\site-packages)\n",
      "WARNING: Ignoring invalid distribution - (c:\\users\\bcpet\\desktop\\new tensorflow object detection\\tfodcourse\\tfod\\lib\\site-packages)\n",
      "WARNING: Ignoring invalid distribution -ensorflow (c:\\users\\bcpet\\desktop\\new tensorflow object detection\\tfodcourse\\tfod\\lib\\site-packages)\n",
      "WARNING: Ignoring invalid distribution -otobuf (c:\\users\\bcpet\\desktop\\new tensorflow object detection\\tfodcourse\\tfod\\lib\\site-packages)\n",
      "WARNING: Ignoring invalid distribution -rotobuf (c:\\users\\bcpet\\desktop\\new tensorflow object detection\\tfodcourse\\tfod\\lib\\site-packages)\n",
      "WARNING: Ignoring invalid distribution - (c:\\users\\bcpet\\desktop\\new tensorflow object detection\\tfodcourse\\tfod\\lib\\site-packages)\n",
      "WARNING: Ignoring invalid distribution -ensorflow (c:\\users\\bcpet\\desktop\\new tensorflow object detection\\tfodcourse\\tfod\\lib\\site-packages)\n",
      "WARNING: Ignoring invalid distribution -otobuf (c:\\users\\bcpet\\desktop\\new tensorflow object detection\\tfodcourse\\tfod\\lib\\site-packages)\n",
      "WARNING: Ignoring invalid distribution -rotobuf (c:\\users\\bcpet\\desktop\\new tensorflow object detection\\tfodcourse\\tfod\\lib\\site-packages)\n",
      "WARNING: Ignoring invalid distribution - (c:\\users\\bcpet\\desktop\\new tensorflow object detection\\tfodcourse\\tfod\\lib\\site-packages)\n",
      "WARNING: Ignoring invalid distribution -ensorflow (c:\\users\\bcpet\\desktop\\new tensorflow object detection\\tfodcourse\\tfod\\lib\\site-packages)\n",
      "\n",
      "[notice] A new release of pip available: 22.2.1 -> 22.3.1\n",
      "[notice] To update, run: python.exe -m pip install --upgrade pip\n"
     ]
    }
   ],
   "source": [
    "if os.name=='nt':\n",
    "    !pip install wget\n",
    "    import wget"
   ]
  },
  {
   "cell_type": "code",
   "execution_count": null,
   "metadata": {
    "id": "iA1DIq5OpfDE"
   },
   "outputs": [],
   "source": [
    "if not os.path.exists(os.path.join(paths['APIMODEL_PATH'], 'research', 'object_detection')):\n",
    "    !git clone https://github.com/tensorflow/models {paths['APIMODEL_PATH']}"
   ]
  },
  {
   "cell_type": "code",
   "execution_count": null,
   "metadata": {},
   "outputs": [],
   "source": [
    "!pip install tensorflow"
   ]
  },
  {
   "cell_type": "code",
   "execution_count": null,
   "metadata": {
    "id": "rJjMHbnDs3Tv"
   },
   "outputs": [],
   "source": [
    "# Install Tensorflow Object Detection \n",
    "if os.name=='posix':  \n",
    "    !apt-get install protobuf-compiler\n",
    "    !cd Tensorflow/models/research && protoc object_detection/protos/*.proto --python_out=. && cp object_detection/packages/tf2/setup.py . && python -m pip install . \n",
    "    \n",
    "if os.name=='nt':\n",
    "    url=\"https://github.com/protocolbuffers/protobuf/releases/download/v3.15.6/protoc-3.15.6-win64.zip\"\n",
    "    wget.download(url)\n",
    "    !move protoc-3.15.6-win64.zip {paths['PROTOC_PATH']}\n",
    "    !cd {paths['PROTOC_PATH']} && tar -xf protoc-3.15.6-win64.zip\n",
    "    os.environ['PATH'] += os.pathsep + os.path.abspath(os.path.join(paths['PROTOC_PATH'], 'bin'))   \n",
    "    !cd Tensorflow/models/research && protoc object_detection/protos/*.proto --python_out=. && copy object_detection\\\\packages\\\\tf2\\\\setup.py setup.py && python setup.py build && python setup.py install\n",
    "    !cd Tensorflow/models/research/slim && pip install -e . "
   ]
  },
  {
   "cell_type": "code",
   "execution_count": null,
   "metadata": {},
   "outputs": [],
   "source": [
    "pip install protobuf==3.20.0 #this is the required version of protobuf if the tensorflow object detection api fails to install"
   ]
  },
  {
   "cell_type": "code",
   "execution_count": null,
   "metadata": {},
   "outputs": [],
   "source": [
    "pip install matplotlib"
   ]
  },
  {
   "cell_type": "code",
   "execution_count": null,
   "metadata": {},
   "outputs": [],
   "source": [
    "!pip install pyyaml"
   ]
  },
  {
   "cell_type": "markdown",
   "metadata": {},
   "source": [
    "***Very IMPORTANT step to verify tensorflow object detection api install"
   ]
  },
  {
   "cell_type": "code",
   "execution_count": null,
   "metadata": {
    "scrolled": true
   },
   "outputs": [],
   "source": [
    "VERIFICATION_SCRIPT = os.path.join(paths['APIMODEL_PATH'], 'research', 'object_detection', 'builders', 'model_builder_tf2_test.py')\n",
    "# Verify Installation\n",
    "!python {VERIFICATION_SCRIPT}"
   ]
  },
  {
   "cell_type": "code",
   "execution_count": null,
   "metadata": {},
   "outputs": [],
   "source": [
    "!pip install tensorflow-gpu==2.10.1 #skip this if running only on CPU "
   ]
  },
  {
   "cell_type": "code",
   "execution_count": null,
   "metadata": {},
   "outputs": [],
   "source": [
    "!pip uninstall protobuf matplotlib -y\n",
    "!pip install protobuf matplotlib==3.2"
   ]
  },
  {
   "cell_type": "code",
   "execution_count": 7,
   "metadata": {},
   "outputs": [],
   "source": [
    "import object_detection"
   ]
  },
  {
   "cell_type": "code",
   "execution_count": 180,
   "metadata": {
    "scrolled": true
   },
   "outputs": [
    {
     "name": "stdout",
     "output_type": "stream",
     "text": [
      "Package                      Version     Editable project location\n",
      "---------------------------- ----------- -------------------------------------------------------------------------------------------------\n",
      "absl-py                      1.3.0\n",
      "anyio                        3.6.2\n",
      "argon2-cffi                  21.3.0\n",
      "argon2-cffi-bindings         21.2.0\n",
      "asttokens                    2.1.0\n",
      "astunparse                   1.6.3\n",
      "attrs                        22.1.0\n",
      "backcall                     0.2.0\n",
      "beautifulsoup4               4.11.1\n",
      "bleach                       5.0.1\n",
      "cachetools                   5.2.0\n",
      "certifi                      2022.9.24\n",
      "cffi                         1.15.1\n",
      "charset-normalizer           2.1.1\n",
      "colorama                     0.4.6\n",
      "contourpy                    1.0.6\n",
      "cycler                       0.11.0\n",
      "debugpy                      1.6.3\n",
      "decorator                    5.1.1\n",
      "defusedxml                   0.7.1\n",
      "entrypoints                  0.4\n",
      "executing                    1.2.0\n",
      "fastjsonschema               2.16.2\n",
      "flatbuffers                  22.10.26\n",
      "fonttools                    4.38.0\n",
      "gast                         0.4.0\n",
      "gin                          0.1.6\n",
      "gin-config                   0.1.1\n",
      "google-auth                  2.14.1\n",
      "google-auth-oauthlib         0.4.6\n",
      "google-pasta                 0.2.0\n",
      "grpcio                       1.50.0\n",
      "h5py                         3.7.0\n",
      "idna                         3.4\n",
      "ipykernel                    6.17.1\n",
      "ipython                      8.6.0\n",
      "ipython-genutils             0.2.0\n",
      "ipywidgets                   8.0.2\n",
      "jedi                         0.18.1\n",
      "Jinja2                       3.1.2\n",
      "jsonschema                   4.17.0\n",
      "jupyter                      1.0.0\n",
      "jupyter_client               7.4.7\n",
      "jupyter-console              6.4.4\n",
      "jupyter_core                 5.0.0\n",
      "jupyter-server               1.23.2\n",
      "jupyterlab-pygments          0.2.2\n",
      "jupyterlab-widgets           3.0.3\n",
      "keras                        2.10.0\n",
      "Keras-Preprocessing          1.1.2\n",
      "kiwisolver                   1.4.4\n",
      "libclang                     14.0.6\n",
      "lvis                         0.5.3\n",
      "lxml                         4.9.1\n",
      "Markdown                     3.4.1\n",
      "MarkupSafe                   2.1.1\n",
      "matplotlib                   3.6.2\n",
      "matplotlib-inline            0.1.6\n",
      "mistune                      2.0.4\n",
      "nbclassic                    0.4.8\n",
      "nbclient                     0.7.0\n",
      "nbconvert                    7.2.5\n",
      "nbformat                     5.7.0\n",
      "nest-asyncio                 1.5.6\n",
      "notebook                     6.5.2\n",
      "notebook_shim                0.2.2\n",
      "numpy                        1.23.4\n",
      "oauthlib                     3.2.2\n",
      "object-detection             0.1\n",
      "opencv-python                4.6.0.66\n",
      "opt-einsum                   3.3.0\n",
      "packaging                    20.9\n",
      "pandas                       1.5.1\n",
      "pandocfilters                1.5.0\n",
      "parso                        0.8.3\n",
      "pickleshare                  0.7.5\n",
      "Pillow                       9.3.0\n",
      "pip                          22.2.1\n",
      "platformdirs                 2.5.4\n",
      "prometheus-client            0.15.0\n",
      "prompt-toolkit               3.0.32\n",
      "protobuf                     3.20.0\n",
      "psutil                       5.9.4\n",
      "pure-eval                    0.2.2\n",
      "pyasn1                       0.4.8\n",
      "pyasn1-modules               0.2.8\n",
      "pycocotools                  2.0.6\n",
      "pycparser                    2.21\n",
      "Pygments                     2.13.0\n",
      "pyparsing                    3.0.9\n",
      "PyQt5                        5.15.7\n",
      "PyQt5-Qt5                    5.15.2\n",
      "PyQt5-sip                    12.11.0\n",
      "pyrsistent                   0.19.2\n",
      "python-dateutil              2.8.2\n",
      "pytz                         2022.6\n",
      "pywin32                      305\n",
      "pywinpty                     2.0.9\n",
      "PyYAML                       6.0\n",
      "pyzmq                        24.0.1\n",
      "qtconsole                    5.4.0\n",
      "QtPy                         2.3.0\n",
      "requests                     2.28.1\n",
      "requests-oauthlib            1.3.1\n",
      "rsa                          4.9\n",
      "sacrebleu                    2.2.0\n",
      "scipy                        1.9.3\n",
      "Send2Trash                   1.8.0\n",
      "setuptools                   63.2.0\n",
      "six                          1.16.0\n",
      "slim                         0.1         c:\\users\\bcpet\\desktop\\new tensorflow object detection\\tfodcourse\\tensorflow\\models\\research\\slim\n",
      "sniffio                      1.3.0\n",
      "soupsieve                    2.3.2.post1\n",
      "stack-data                   0.6.1\n",
      "tensorboard                  2.11.0\n",
      "tensorboard-data-server      0.6.1\n",
      "tensorboard-plugin-wit       1.8.1\n",
      "tensorflow                   2.10.1\n",
      "tensorflow-addons            0.18.0\n",
      "tensorflow-estimator         2.10.0\n",
      "tensorflow-gpu               2.10.1\n",
      "tensorflow-hub               0.12.0\n",
      "tensorflow-intel             2.11.0\n",
      "tensorflow-io                0.27.0\n",
      "tensorflow-io-gcs-filesystem 0.27.0\n",
      "tensorflowjs                 3.19.0\n",
      "termcolor                    2.1.0\n",
      "terminado                    0.17.0\n",
      "tf-models-official           2.10.0\n",
      "tf-slim                      1.1.0\n",
      "tinycss2                     1.2.1\n",
      "tornado                      6.2\n",
      "traitlets                    5.5.0\n",
      "typeguard                    2.13.3\n",
      "typing_extensions            4.4.0\n",
      "urllib3                      1.26.12\n",
      "wcwidth                      0.2.5\n",
      "webencodings                 0.5.1\n",
      "websocket-client             1.4.2\n",
      "Werkzeug                     2.2.2\n",
      "wget                         3.2\n",
      "wheel                        0.38.4\n",
      "widgetsnbextension           4.0.3\n",
      "wrapt                        1.14.1\n"
     ]
    },
    {
     "name": "stderr",
     "output_type": "stream",
     "text": [
      "WARNING: Ignoring invalid distribution -otobuf (c:\\users\\bcpet\\desktop\\new tensorflow object detection\\tfodcourse\\tfod\\lib\\site-packages)\n",
      "WARNING: Ignoring invalid distribution -rotobuf (c:\\users\\bcpet\\desktop\\new tensorflow object detection\\tfodcourse\\tfod\\lib\\site-packages)\n",
      "WARNING: Ignoring invalid distribution - (c:\\users\\bcpet\\desktop\\new tensorflow object detection\\tfodcourse\\tfod\\lib\\site-packages)\n",
      "WARNING: Ignoring invalid distribution -ensorflow (c:\\users\\bcpet\\desktop\\new tensorflow object detection\\tfodcourse\\tfod\\lib\\site-packages)\n",
      "WARNING: Ignoring invalid distribution -otobuf (c:\\users\\bcpet\\desktop\\new tensorflow object detection\\tfodcourse\\tfod\\lib\\site-packages)\n",
      "WARNING: Ignoring invalid distribution -rotobuf (c:\\users\\bcpet\\desktop\\new tensorflow object detection\\tfodcourse\\tfod\\lib\\site-packages)\n",
      "WARNING: Ignoring invalid distribution - (c:\\users\\bcpet\\desktop\\new tensorflow object detection\\tfodcourse\\tfod\\lib\\site-packages)\n",
      "WARNING: Ignoring invalid distribution -ensorflow (c:\\users\\bcpet\\desktop\\new tensorflow object detection\\tfodcourse\\tfod\\lib\\site-packages)\n",
      "WARNING: Ignoring invalid distribution -otobuf (c:\\users\\bcpet\\desktop\\new tensorflow object detection\\tfodcourse\\tfod\\lib\\site-packages)\n",
      "WARNING: Ignoring invalid distribution -rotobuf (c:\\users\\bcpet\\desktop\\new tensorflow object detection\\tfodcourse\\tfod\\lib\\site-packages)\n",
      "WARNING: Ignoring invalid distribution - (c:\\users\\bcpet\\desktop\\new tensorflow object detection\\tfodcourse\\tfod\\lib\\site-packages)\n",
      "WARNING: Ignoring invalid distribution -ensorflow (c:\\users\\bcpet\\desktop\\new tensorflow object detection\\tfodcourse\\tfod\\lib\\site-packages)\n",
      "WARNING: Ignoring invalid distribution -otobuf (c:\\users\\bcpet\\desktop\\new tensorflow object detection\\tfodcourse\\tfod\\lib\\site-packages)\n",
      "WARNING: Ignoring invalid distribution -rotobuf (c:\\users\\bcpet\\desktop\\new tensorflow object detection\\tfodcourse\\tfod\\lib\\site-packages)\n",
      "WARNING: Ignoring invalid distribution - (c:\\users\\bcpet\\desktop\\new tensorflow object detection\\tfodcourse\\tfod\\lib\\site-packages)\n",
      "WARNING: Ignoring invalid distribution -ensorflow (c:\\users\\bcpet\\desktop\\new tensorflow object detection\\tfodcourse\\tfod\\lib\\site-packages)\n",
      "\n",
      "[notice] A new release of pip available: 22.2.1 -> 22.3.1\n",
      "[notice] To update, run: python.exe -m pip install --upgrade pip\n"
     ]
    }
   ],
   "source": [
    "!pip list #use to check versions"
   ]
  },
  {
   "cell_type": "code",
   "execution_count": null,
   "metadata": {
    "colab": {
     "base_uri": "https://localhost:8080/"
    },
    "id": "csofht2npfDE",
    "outputId": "ff5471b2-bed2-43f2-959c-327a706527b6"
   },
   "outputs": [],
   "source": [
    "if os.name =='posix':\n",
    "    !wget {PRETRAINED_MODEL_URL}\n",
    "    !mv {PRETRAINED_MODEL_NAME+'.tar.gz'} {paths['PRETRAINED_MODEL_PATH']}\n",
    "    !cd {paths['PRETRAINED_MODEL_PATH']} && tar -zxvf {PRETRAINED_MODEL_NAME+'.tar.gz'}\n",
    "if os.name == 'nt':\n",
    "    wget.download(PRETRAINED_MODEL_URL)\n",
    "    !move {PRETRAINED_MODEL_NAME+'.tar.gz'} {paths['PRETRAINED_MODEL_PATH']}\n",
    "    !cd {paths['PRETRAINED_MODEL_PATH']} && tar -zxvf {PRETRAINED_MODEL_NAME+'.tar.gz'}"
   ]
  },
  {
   "cell_type": "markdown",
   "metadata": {
    "id": "M5KJTnkfpfDC"
   },
   "source": [
    "# 2. Create Label Map"
   ]
  },
  {
   "cell_type": "code",
   "execution_count": 59,
   "metadata": {
    "id": "p1BVDWo7pfDC"
   },
   "outputs": [],
   "source": [
    "labels = [{'name':'pupil', 'id':1}]\n",
    "\n",
    "with open(files['LABELMAP'], 'w') as f:\n",
    "    for label in labels:\n",
    "        f.write('item { \\n')\n",
    "        f.write('\\tname:\\'{}\\'\\n'.format(label['name']))\n",
    "        f.write('\\tid:{}\\n'.format(label['id']))\n",
    "        f.write('}\\n')"
   ]
  },
  {
   "cell_type": "markdown",
   "metadata": {
    "id": "C88zyVELpfDC"
   },
   "source": [
    "# 3. Create TF records"
   ]
  },
  {
   "cell_type": "code",
   "execution_count": null,
   "metadata": {
    "colab": {
     "base_uri": "https://localhost:8080/"
    },
    "id": "kvf5WccwrFGq",
    "outputId": "49902aeb-0bd7-4298-e1a0-5b4a64eb2064"
   },
   "outputs": [],
   "source": [
    "# OPTIONAL IF RUNNING ON COLAB\n",
    "#DO NOT RUN\n",
    "ARCHIVE_FILES = os.path.join(paths['IMAGE_PATH'], 'archive.tar.gz')\n",
    "if os.path.exists(ARCHIVE_FILES):\n",
    "  !tar -zxvf {ARCHIVE_FILES}"
   ]
  },
  {
   "cell_type": "code",
   "execution_count": 106,
   "metadata": {
    "colab": {
     "base_uri": "https://localhost:8080/"
    },
    "id": "KWpb_BVUpfDD",
    "outputId": "56ce2a3f-3933-4ee6-8a9d-d5ec65f7d73c"
   },
   "outputs": [],
   "source": [
    "if not os.path.exists(files['TF_RECORD_SCRIPT']):\n",
    "    !git clone https://github.com/nicknochnack/GenerateTFRecord {paths['SCRIPTS_PATH']}"
   ]
  },
  {
   "cell_type": "code",
   "execution_count": 107,
   "metadata": {
    "colab": {
     "base_uri": "https://localhost:8080/"
    },
    "id": "UPFToGZqpfDD",
    "outputId": "0ebb456f-aadc-4a1f-96e6-fbfec1923e1c"
   },
   "outputs": [
    {
     "name": "stdout",
     "output_type": "stream",
     "text": [
      "Successfully created the TFRecord file: Tensorflow\\workspace\\annotations\\train.record\n",
      "Successfully created the TFRecord file: Tensorflow\\workspace\\annotations\\test.record\n"
     ]
    }
   ],
   "source": [
    "!python {files['TF_RECORD_SCRIPT']} -x {os.path.join(paths['IMAGE_PATH'], 'train')} -l {files['LABELMAP']} -o {os.path.join(paths['ANNOTATION_PATH'], 'train.record')} \n",
    "!python {files['TF_RECORD_SCRIPT']} -x {os.path.join(paths['IMAGE_PATH'], 'test')} -l {files['LABELMAP']} -o {os.path.join(paths['ANNOTATION_PATH'], 'test.record')} "
   ]
  },
  {
   "cell_type": "code",
   "execution_count": null,
   "metadata": {},
   "outputs": [],
   "source": [
    "pip install pytz"
   ]
  },
  {
   "cell_type": "code",
   "execution_count": null,
   "metadata": {},
   "outputs": [],
   "source": [
    "!pip install pandas"
   ]
  },
  {
   "cell_type": "markdown",
   "metadata": {
    "id": "qT4QU7pLpfDE"
   },
   "source": [
    "# 4. Copy Model Config to Training Folder"
   ]
  },
  {
   "cell_type": "code",
   "execution_count": 108,
   "metadata": {
    "id": "cOjuTFbwpfDF"
   },
   "outputs": [
    {
     "name": "stdout",
     "output_type": "stream",
     "text": [
      "        1 file(s) copied.\n"
     ]
    }
   ],
   "source": [
    "if os.name =='posix':\n",
    "    !cp {os.path.join(paths['PRETRAINED_MODEL_PATH'], PRETRAINED_MODEL_NAME, 'pipeline.config')} {os.path.join(paths['CHECKPOINT_PATH'])}\n",
    "if os.name == 'nt':\n",
    "    !copy {os.path.join(paths['PRETRAINED_MODEL_PATH'], PRETRAINED_MODEL_NAME, 'pipeline.config')} {os.path.join(paths['CHECKPOINT_PATH'])}"
   ]
  },
  {
   "cell_type": "markdown",
   "metadata": {
    "id": "Ga8gpNslpfDF"
   },
   "source": [
    "# 5. Update Config For Transfer Learning"
   ]
  },
  {
   "cell_type": "code",
   "execution_count": 12,
   "metadata": {
    "id": "Z9hRrO_ppfDF"
   },
   "outputs": [],
   "source": [
    "import tensorflow as tf\n",
    "from object_detection.utils import config_util\n",
    "from object_detection.protos import pipeline_pb2\n",
    "from google.protobuf import text_format"
   ]
  },
  {
   "cell_type": "code",
   "execution_count": 212,
   "metadata": {
    "id": "c2A0mn4ipfDF"
   },
   "outputs": [],
   "source": [
    "config = config_util.get_configs_from_pipeline_file(files['PIPELINE_CONFIG'])"
   ]
  },
  {
   "cell_type": "code",
   "execution_count": 213,
   "metadata": {
    "colab": {
     "base_uri": "https://localhost:8080/"
    },
    "id": "uQA13-afpfDF",
    "outputId": "907496a4-a39d-4b13-8c2c-e5978ecb1f10",
    "scrolled": false
   },
   "outputs": [
    {
     "data": {
      "text/plain": [
       "{'model': ssd {\n",
       "   num_classes: 1\n",
       "   image_resizer {\n",
       "     fixed_shape_resizer {\n",
       "       height: 320\n",
       "       width: 320\n",
       "     }\n",
       "   }\n",
       "   feature_extractor {\n",
       "     type: \"ssd_mobilenet_v2_fpn_keras\"\n",
       "     depth_multiplier: 1.0\n",
       "     min_depth: 16\n",
       "     conv_hyperparams {\n",
       "       regularizer {\n",
       "         l2_regularizer {\n",
       "           weight: 3.9999998989515007e-05\n",
       "         }\n",
       "       }\n",
       "       initializer {\n",
       "         random_normal_initializer {\n",
       "           mean: 0.0\n",
       "           stddev: 0.009999999776482582\n",
       "         }\n",
       "       }\n",
       "       activation: RELU_6\n",
       "       batch_norm {\n",
       "         decay: 0.996999979019165\n",
       "         scale: true\n",
       "         epsilon: 0.0010000000474974513\n",
       "       }\n",
       "     }\n",
       "     use_depthwise: true\n",
       "     override_base_feature_extractor_hyperparams: true\n",
       "     fpn {\n",
       "       min_level: 3\n",
       "       max_level: 7\n",
       "       additional_layer_depth: 128\n",
       "     }\n",
       "   }\n",
       "   box_coder {\n",
       "     faster_rcnn_box_coder {\n",
       "       y_scale: 10.0\n",
       "       x_scale: 10.0\n",
       "       height_scale: 5.0\n",
       "       width_scale: 5.0\n",
       "     }\n",
       "   }\n",
       "   matcher {\n",
       "     argmax_matcher {\n",
       "       matched_threshold: 0.5\n",
       "       unmatched_threshold: 0.5\n",
       "       ignore_thresholds: false\n",
       "       negatives_lower_than_unmatched: true\n",
       "       force_match_for_each_row: true\n",
       "       use_matmul_gather: true\n",
       "     }\n",
       "   }\n",
       "   similarity_calculator {\n",
       "     iou_similarity {\n",
       "     }\n",
       "   }\n",
       "   box_predictor {\n",
       "     weight_shared_convolutional_box_predictor {\n",
       "       conv_hyperparams {\n",
       "         regularizer {\n",
       "           l2_regularizer {\n",
       "             weight: 3.9999998989515007e-05\n",
       "           }\n",
       "         }\n",
       "         initializer {\n",
       "           random_normal_initializer {\n",
       "             mean: 0.0\n",
       "             stddev: 0.009999999776482582\n",
       "           }\n",
       "         }\n",
       "         activation: RELU_6\n",
       "         batch_norm {\n",
       "           decay: 0.996999979019165\n",
       "           scale: true\n",
       "           epsilon: 0.0010000000474974513\n",
       "         }\n",
       "       }\n",
       "       depth: 128\n",
       "       num_layers_before_predictor: 4\n",
       "       kernel_size: 3\n",
       "       class_prediction_bias_init: -4.599999904632568\n",
       "       share_prediction_tower: true\n",
       "       use_depthwise: true\n",
       "     }\n",
       "   }\n",
       "   anchor_generator {\n",
       "     multiscale_anchor_generator {\n",
       "       min_level: 3\n",
       "       max_level: 7\n",
       "       anchor_scale: 4.0\n",
       "       aspect_ratios: 1.0\n",
       "       aspect_ratios: 2.0\n",
       "       aspect_ratios: 0.5\n",
       "       scales_per_octave: 2\n",
       "     }\n",
       "   }\n",
       "   post_processing {\n",
       "     batch_non_max_suppression {\n",
       "       score_threshold: 9.99999993922529e-09\n",
       "       iou_threshold: 0.6000000238418579\n",
       "       max_detections_per_class: 100\n",
       "       max_total_detections: 100\n",
       "       use_static_shapes: false\n",
       "     }\n",
       "     score_converter: SIGMOID\n",
       "   }\n",
       "   normalize_loss_by_num_matches: true\n",
       "   loss {\n",
       "     localization_loss {\n",
       "       weighted_smooth_l1 {\n",
       "       }\n",
       "     }\n",
       "     classification_loss {\n",
       "       weighted_sigmoid_focal {\n",
       "         gamma: 2.0\n",
       "         alpha: 0.25\n",
       "       }\n",
       "     }\n",
       "     classification_weight: 1.0\n",
       "     localization_weight: 1.0\n",
       "   }\n",
       "   encode_background_as_zeros: true\n",
       "   normalize_loc_loss_by_codesize: true\n",
       "   inplace_batchnorm_update: true\n",
       "   freeze_batchnorm: false\n",
       " },\n",
       " 'train_config': batch_size: 1\n",
       " data_augmentation_options {\n",
       "   random_horizontal_flip {\n",
       "   }\n",
       " }\n",
       " data_augmentation_options {\n",
       "   random_crop_image {\n",
       "     min_object_covered: 0.0\n",
       "     min_aspect_ratio: 0.75\n",
       "     max_aspect_ratio: 3.0\n",
       "     min_area: 0.75\n",
       "     max_area: 1.0\n",
       "     overlap_thresh: 0.0\n",
       "   }\n",
       " }\n",
       " sync_replicas: true\n",
       " optimizer {\n",
       "   momentum_optimizer {\n",
       "     learning_rate {\n",
       "       cosine_decay_learning_rate {\n",
       "         learning_rate_base: 0.009999999776482582\n",
       "         total_steps: 5000\n",
       "         warmup_learning_rate: 0.004999999888241291\n",
       "         warmup_steps: 1000\n",
       "       }\n",
       "     }\n",
       "     momentum_optimizer_value: 0.8999999761581421\n",
       "   }\n",
       "   use_moving_average: false\n",
       " }\n",
       " fine_tune_checkpoint: \"Tensorflow\\\\workspace\\\\pre-trained-models\\\\ssd_mobilenet_v2_fpnlite_320x320_coco17_tpu-8\\\\checkpoint\\\\ckpt-0\"\n",
       " num_steps: 5000\n",
       " startup_delay_steps: 0.0\n",
       " replicas_to_aggregate: 8\n",
       " max_number_of_boxes: 100\n",
       " unpad_groundtruth_tensors: false\n",
       " fine_tune_checkpoint_type: \"detection\"\n",
       " fine_tune_checkpoint_version: V2,\n",
       " 'train_input_config': label_map_path: \"Tensorflow\\\\workspace\\\\annotations\\\\label_map.pbtxt\"\n",
       " tf_record_input_reader {\n",
       "   input_path: \"Tensorflow\\\\workspace\\\\annotations\\\\train.record\"\n",
       " },\n",
       " 'eval_config': metrics_set: \"coco_detection_metrics\"\n",
       " use_moving_averages: false,\n",
       " 'eval_input_configs': [label_map_path: \"Tensorflow\\\\workspace\\\\annotations\\\\label_map.pbtxt\"\n",
       " shuffle: false\n",
       " num_epochs: 1\n",
       " tf_record_input_reader {\n",
       "   input_path: \"Tensorflow\\\\workspace\\\\annotations\\\\test.record\"\n",
       " }\n",
       " ],\n",
       " 'eval_input_config': label_map_path: \"Tensorflow\\\\workspace\\\\annotations\\\\label_map.pbtxt\"\n",
       " shuffle: false\n",
       " num_epochs: 1\n",
       " tf_record_input_reader {\n",
       "   input_path: \"Tensorflow\\\\workspace\\\\annotations\\\\test.record\"\n",
       " }}"
      ]
     },
     "execution_count": 213,
     "metadata": {},
     "output_type": "execute_result"
    }
   ],
   "source": [
    "config"
   ]
  },
  {
   "cell_type": "code",
   "execution_count": 116,
   "metadata": {
    "id": "9vK5lotDpfDF"
   },
   "outputs": [],
   "source": [
    "pipeline_config = pipeline_pb2.TrainEvalPipelineConfig()\n",
    "with tf.io.gfile.GFile(files['PIPELINE_CONFIG'], \"r\") as f:                                                                                                                                                                                                                     \n",
    "    proto_str = f.read()                                                                                                                                                                                                                                          \n",
    "    text_format.Merge(proto_str, pipeline_config)  "
   ]
  },
  {
   "cell_type": "code",
   "execution_count": 117,
   "metadata": {
    "id": "rP43Ph0JpfDG"
   },
   "outputs": [],
   "source": [
    "pipeline_config.model.ssd.num_classes = len(labels)\n",
    "pipeline_config.train_config.batch_size = 1\n",
    "pipeline_config.train_config.fine_tune_checkpoint = os.path.join(paths['PRETRAINED_MODEL_PATH'], PRETRAINED_MODEL_NAME, 'checkpoint', 'ckpt-0')\n",
    "pipeline_config.train_config.fine_tune_checkpoint_type = \"detection\"\n",
    "pipeline_config.train_input_reader.label_map_path= files['LABELMAP']\n",
    "pipeline_config.train_input_reader.tf_record_input_reader.input_path[:] = [os.path.join(paths['ANNOTATION_PATH'], 'train.record')]\n",
    "pipeline_config.eval_input_reader[0].label_map_path = files['LABELMAP']\n",
    "pipeline_config.eval_input_reader[0].tf_record_input_reader.input_path[:] = [os.path.join(paths['ANNOTATION_PATH'], 'test.record')]"
   ]
  },
  {
   "cell_type": "code",
   "execution_count": 118,
   "metadata": {
    "id": "oJvfgwWqpfDG"
   },
   "outputs": [],
   "source": [
    "config_text = text_format.MessageToString(pipeline_config)                                                                                                                                                                                                        \n",
    "with tf.io.gfile.GFile(files['PIPELINE_CONFIG'], \"wb\") as f:                                                                                                                                                                                                                     \n",
    "    f.write(config_text)   "
   ]
  },
  {
   "cell_type": "markdown",
   "metadata": {
    "id": "Zr3ON7xMpfDG"
   },
   "source": [
    "# 6. Train the model"
   ]
  },
  {
   "cell_type": "code",
   "execution_count": 119,
   "metadata": {
    "id": "B-Y2UQmQpfDG"
   },
   "outputs": [],
   "source": [
    "TRAINING_SCRIPT = os.path.join(paths['APIMODEL_PATH'], 'research', 'object_detection', 'model_main_tf2.py')"
   ]
  },
  {
   "cell_type": "code",
   "execution_count": 120,
   "metadata": {
    "id": "jMP2XDfQpfDH"
   },
   "outputs": [],
   "source": [
    "#--num_train_steps= can be modified \n",
    "command = \"python {} --model_dir={} --pipeline_config_path={} --num_train_steps=5000\".format(TRAINING_SCRIPT, paths['CHECKPOINT_PATH'],files['PIPELINE_CONFIG'])"
   ]
  },
  {
   "cell_type": "code",
   "execution_count": 121,
   "metadata": {
    "colab": {
     "base_uri": "https://localhost:8080/"
    },
    "id": "A4OXXi-ApfDH",
    "outputId": "117a0e83-012b-466e-b7a6-ccaa349ac5ab"
   },
   "outputs": [
    {
     "name": "stdout",
     "output_type": "stream",
     "text": [
      "python Tensorflow\\models\\research\\object_detection\\model_main_tf2.py --model_dir=Tensorflow\\workspace\\models\\my_ssd_mobnet_pupil_N15 --pipeline_config_path=Tensorflow\\workspace\\models\\my_ssd_mobnet_pupil_N15\\pipeline.config --num_train_steps=5000\n"
     ]
    }
   ],
   "source": [
    "#copy and past output to a new command prompt and cd into TFODCourse and activate venv \n",
    "print(command)"
   ]
  },
  {
   "cell_type": "code",
   "execution_count": 27,
   "metadata": {
    "colab": {
     "base_uri": "https://localhost:8080/"
    },
    "id": "i3ZsJR-qpfDH",
    "outputId": "cabec5e1-45e6-4f2f-d9cf-297d9c1d0225"
   },
   "outputs": [
    {
     "name": "stderr",
     "output_type": "stream",
     "text": [
      "2022-11-20 17:10:52.363973: I tensorflow/core/platform/cpu_feature_guard.cc:193] This TensorFlow binary is optimized with oneAPI Deep Neural Network Library (oneDNN) to use the following CPU instructions in performance-critical operations:  AVX AVX2\n",
      "To enable them in other operations, rebuild TensorFlow with the appropriate compiler flags.\n",
      "2022-11-20 17:10:52.754028: I tensorflow/core/common_runtime/gpu/gpu_device.cc:1616] Created device /job:localhost/replica:0/task:0/device:GPU:0 with 1643 MB memory:  -> device: 0, name: NVIDIA RTX A2000 Laptop GPU, pci bus id: 0000:01:00.0, compute capability: 8.6\n",
      "INFO:tensorflow:Using MirroredStrategy with devices ('/job:localhost/replica:0/task:0/device:GPU:0',)\n",
      "I1120 17:10:52.829046 22104 mirrored_strategy.py:374] Using MirroredStrategy with devices ('/job:localhost/replica:0/task:0/device:GPU:0',)\n",
      "INFO:tensorflow:Maybe overwriting train_steps: 8000\n",
      "I1120 17:10:52.833032 22104 config_util.py:552] Maybe overwriting train_steps: 8000\n",
      "INFO:tensorflow:Maybe overwriting use_bfloat16: False\n",
      "I1120 17:10:52.833032 22104 config_util.py:552] Maybe overwriting use_bfloat16: False\n",
      "WARNING:tensorflow:From C:\\Users\\bcpet\\Desktop\\New Tensorflow Object Detection\\TFODCourse\\tfod\\lib\\site-packages\\object_detection-0.1-py3.10.egg\\object_detection\\model_lib_v2.py:563: StrategyBase.experimental_distribute_datasets_from_function (from tensorflow.python.distribute.distribute_lib) is deprecated and will be removed in a future version.\n",
      "Instructions for updating:\n",
      "rename to distribute_datasets_from_function\n",
      "W1120 17:10:52.910654 22104 deprecation.py:350] From C:\\Users\\bcpet\\Desktop\\New Tensorflow Object Detection\\TFODCourse\\tfod\\lib\\site-packages\\object_detection-0.1-py3.10.egg\\object_detection\\model_lib_v2.py:563: StrategyBase.experimental_distribute_datasets_from_function (from tensorflow.python.distribute.distribute_lib) is deprecated and will be removed in a future version.\n",
      "Instructions for updating:\n",
      "rename to distribute_datasets_from_function\n",
      "INFO:tensorflow:Reading unweighted datasets: ['Tensorflow\\\\workspace\\\\annotations\\\\train.record']\n",
      "I1120 17:10:52.915633 22104 dataset_builder.py:162] Reading unweighted datasets: ['Tensorflow\\\\workspace\\\\annotations\\\\train.record']\n",
      "INFO:tensorflow:Reading record datasets for input file: ['Tensorflow\\\\workspace\\\\annotations\\\\train.record']\n",
      "I1120 17:10:52.915633 22104 dataset_builder.py:79] Reading record datasets for input file: ['Tensorflow\\\\workspace\\\\annotations\\\\train.record']\n",
      "INFO:tensorflow:Number of filenames to read: 1\n",
      "I1120 17:10:52.915633 22104 dataset_builder.py:80] Number of filenames to read: 1\n",
      "WARNING:tensorflow:num_readers has been reduced to 1 to match input file shards.\n",
      "W1120 17:10:52.915633 22104 dataset_builder.py:86] num_readers has been reduced to 1 to match input file shards.\n",
      "WARNING:tensorflow:From C:\\Users\\bcpet\\Desktop\\New Tensorflow Object Detection\\TFODCourse\\tfod\\lib\\site-packages\\object_detection-0.1-py3.10.egg\\object_detection\\builders\\dataset_builder.py:100: parallel_interleave (from tensorflow.python.data.experimental.ops.interleave_ops) is deprecated and will be removed in a future version.\n",
      "Instructions for updating:\n",
      "Use `tf.data.Dataset.interleave(map_func, cycle_length, block_length, num_parallel_calls=tf.data.AUTOTUNE)` instead. If sloppy execution is desired, use `tf.data.Options.deterministic`.\n",
      "W1120 17:10:52.920619 22104 deprecation.py:350] From C:\\Users\\bcpet\\Desktop\\New Tensorflow Object Detection\\TFODCourse\\tfod\\lib\\site-packages\\object_detection-0.1-py3.10.egg\\object_detection\\builders\\dataset_builder.py:100: parallel_interleave (from tensorflow.python.data.experimental.ops.interleave_ops) is deprecated and will be removed in a future version.\n",
      "Instructions for updating:\n",
      "Use `tf.data.Dataset.interleave(map_func, cycle_length, block_length, num_parallel_calls=tf.data.AUTOTUNE)` instead. If sloppy execution is desired, use `tf.data.Options.deterministic`.\n",
      "WARNING:tensorflow:From C:\\Users\\bcpet\\Desktop\\New Tensorflow Object Detection\\TFODCourse\\tfod\\lib\\site-packages\\object_detection-0.1-py3.10.egg\\object_detection\\builders\\dataset_builder.py:235: DatasetV1.map_with_legacy_function (from tensorflow.python.data.ops.dataset_ops) is deprecated and will be removed in a future version.\n",
      "Instructions for updating:\n",
      "Use `tf.data.Dataset.map()\n",
      "W1120 17:10:52.929717 22104 deprecation.py:350] From C:\\Users\\bcpet\\Desktop\\New Tensorflow Object Detection\\TFODCourse\\tfod\\lib\\site-packages\\object_detection-0.1-py3.10.egg\\object_detection\\builders\\dataset_builder.py:235: DatasetV1.map_with_legacy_function (from tensorflow.python.data.ops.dataset_ops) is deprecated and will be removed in a future version.\n",
      "Instructions for updating:\n",
      "Use `tf.data.Dataset.map()\n",
      "WARNING:tensorflow:From C:\\Users\\bcpet\\Desktop\\New Tensorflow Object Detection\\TFODCourse\\tfod\\lib\\site-packages\\tensorflow\\python\\util\\dispatch.py:1176: sparse_to_dense (from tensorflow.python.ops.sparse_ops) is deprecated and will be removed in a future version.\n",
      "Instructions for updating:\n",
      "Create a `tf.sparse.SparseTensor` and use `tf.sparse.to_dense` instead.\n",
      "W1120 17:10:56.967446 22104 deprecation.py:350] From C:\\Users\\bcpet\\Desktop\\New Tensorflow Object Detection\\TFODCourse\\tfod\\lib\\site-packages\\tensorflow\\python\\util\\dispatch.py:1176: sparse_to_dense (from tensorflow.python.ops.sparse_ops) is deprecated and will be removed in a future version.\n",
      "Instructions for updating:\n",
      "Create a `tf.sparse.SparseTensor` and use `tf.sparse.to_dense` instead.\n",
      "WARNING:tensorflow:From C:\\Users\\bcpet\\Desktop\\New Tensorflow Object Detection\\TFODCourse\\tfod\\lib\\site-packages\\tensorflow\\python\\util\\dispatch.py:1176: sample_distorted_bounding_box (from tensorflow.python.ops.image_ops_impl) is deprecated and will be removed in a future version.\n",
      "Instructions for updating:\n",
      "`seed2` arg is deprecated.Use sample_distorted_bounding_box_v2 instead.\n",
      "W1120 17:10:58.706392 22104 deprecation.py:350] From C:\\Users\\bcpet\\Desktop\\New Tensorflow Object Detection\\TFODCourse\\tfod\\lib\\site-packages\\tensorflow\\python\\util\\dispatch.py:1176: sample_distorted_bounding_box (from tensorflow.python.ops.image_ops_impl) is deprecated and will be removed in a future version.\n",
      "Instructions for updating:\n",
      "`seed2` arg is deprecated.Use sample_distorted_bounding_box_v2 instead.\n",
      "WARNING:tensorflow:From C:\\Users\\bcpet\\Desktop\\New Tensorflow Object Detection\\TFODCourse\\tfod\\lib\\site-packages\\tensorflow\\python\\util\\dispatch.py:1176: to_float (from tensorflow.python.ops.math_ops) is deprecated and will be removed in a future version.\n",
      "Instructions for updating:\n",
      "Use `tf.cast` instead.\n",
      "W1120 17:10:59.733171 22104 deprecation.py:350] From C:\\Users\\bcpet\\Desktop\\New Tensorflow Object Detection\\TFODCourse\\tfod\\lib\\site-packages\\tensorflow\\python\\util\\dispatch.py:1176: to_float (from tensorflow.python.ops.math_ops) is deprecated and will be removed in a future version.\n",
      "Instructions for updating:\n",
      "Use `tf.cast` instead.\n",
      "C:\\Users\\bcpet\\Desktop\\New Tensorflow Object Detection\\TFODCourse\\tfod\\lib\\site-packages\\keras\\backend.py:451: UserWarning: `tf.keras.backend.set_learning_phase` is deprecated and will be removed after 2020-10-11. To update it, simply pass a True/False value to the `training` argument of the `__call__` method of your layer or model.\n",
      "  warnings.warn(\n",
      "2022-11-20 17:11:13.488838: I tensorflow/stream_executor/cuda/cuda_dnn.cc:384] Loaded cuDNN version 8101\n",
      "2022-11-20 17:11:15.119612: I tensorflow/stream_executor/cuda/cuda_blas.cc:1614] TensorFloat-32 will be used for the matrix multiplication. This will only be logged once.\n",
      "INFO:tensorflow:Reduce to /job:localhost/replica:0/task:0/device:CPU:0 then broadcast to ('/job:localhost/replica:0/task:0/device:CPU:0',).\n",
      "I1120 17:11:15.988362 22104 cross_device_ops.py:616] Reduce to /job:localhost/replica:0/task:0/device:CPU:0 then broadcast to ('/job:localhost/replica:0/task:0/device:CPU:0',).\n",
      "INFO:tensorflow:Reduce to /job:localhost/replica:0/task:0/device:CPU:0 then broadcast to ('/job:localhost/replica:0/task:0/device:CPU:0',).\n",
      "I1120 17:11:15.991399 22104 cross_device_ops.py:616] Reduce to /job:localhost/replica:0/task:0/device:CPU:0 then broadcast to ('/job:localhost/replica:0/task:0/device:CPU:0',).\n",
      "INFO:tensorflow:Reduce to /job:localhost/replica:0/task:0/device:CPU:0 then broadcast to ('/job:localhost/replica:0/task:0/device:CPU:0',).\n",
      "I1120 17:11:15.992402 22104 cross_device_ops.py:616] Reduce to /job:localhost/replica:0/task:0/device:CPU:0 then broadcast to ('/job:localhost/replica:0/task:0/device:CPU:0',).\n",
      "INFO:tensorflow:Reduce to /job:localhost/replica:0/task:0/device:CPU:0 then broadcast to ('/job:localhost/replica:0/task:0/device:CPU:0',).\n",
      "I1120 17:11:15.993399 22104 cross_device_ops.py:616] Reduce to /job:localhost/replica:0/task:0/device:CPU:0 then broadcast to ('/job:localhost/replica:0/task:0/device:CPU:0',).\n",
      "INFO:tensorflow:Reduce to /job:localhost/replica:0/task:0/device:CPU:0 then broadcast to ('/job:localhost/replica:0/task:0/device:CPU:0',).\n",
      "I1120 17:11:15.996380 22104 cross_device_ops.py:616] Reduce to /job:localhost/replica:0/task:0/device:CPU:0 then broadcast to ('/job:localhost/replica:0/task:0/device:CPU:0',).\n",
      "INFO:tensorflow:Reduce to /job:localhost/replica:0/task:0/device:CPU:0 then broadcast to ('/job:localhost/replica:0/task:0/device:CPU:0',).\n",
      "I1120 17:11:15.997379 22104 cross_device_ops.py:616] Reduce to /job:localhost/replica:0/task:0/device:CPU:0 then broadcast to ('/job:localhost/replica:0/task:0/device:CPU:0',).\n",
      "INFO:tensorflow:Reduce to /job:localhost/replica:0/task:0/device:CPU:0 then broadcast to ('/job:localhost/replica:0/task:0/device:CPU:0',).\n",
      "I1120 17:11:15.999371 22104 cross_device_ops.py:616] Reduce to /job:localhost/replica:0/task:0/device:CPU:0 then broadcast to ('/job:localhost/replica:0/task:0/device:CPU:0',).\n",
      "INFO:tensorflow:Reduce to /job:localhost/replica:0/task:0/device:CPU:0 then broadcast to ('/job:localhost/replica:0/task:0/device:CPU:0',).\n",
      "I1120 17:11:16.000386 22104 cross_device_ops.py:616] Reduce to /job:localhost/replica:0/task:0/device:CPU:0 then broadcast to ('/job:localhost/replica:0/task:0/device:CPU:0',).\n",
      "INFO:tensorflow:Reduce to /job:localhost/replica:0/task:0/device:CPU:0 then broadcast to ('/job:localhost/replica:0/task:0/device:CPU:0',).\n",
      "I1120 17:11:16.002359 22104 cross_device_ops.py:616] Reduce to /job:localhost/replica:0/task:0/device:CPU:0 then broadcast to ('/job:localhost/replica:0/task:0/device:CPU:0',).\n",
      "INFO:tensorflow:Reduce to /job:localhost/replica:0/task:0/device:CPU:0 then broadcast to ('/job:localhost/replica:0/task:0/device:CPU:0',).\n",
      "I1120 17:11:16.002359 22104 cross_device_ops.py:616] Reduce to /job:localhost/replica:0/task:0/device:CPU:0 then broadcast to ('/job:localhost/replica:0/task:0/device:CPU:0',).\n",
      "WARNING:tensorflow:From C:\\Users\\bcpet\\Desktop\\New Tensorflow Object Detection\\TFODCourse\\tfod\\lib\\site-packages\\tensorflow\\python\\util\\deprecation.py:629: calling map_fn_v2 (from tensorflow.python.ops.map_fn) with dtype is deprecated and will be removed in a future version.\n",
      "Instructions for updating:\n",
      "Use fn_output_signature instead\n",
      "W1120 17:11:16.716901 16024 deprecation.py:554] From C:\\Users\\bcpet\\Desktop\\New Tensorflow Object Detection\\TFODCourse\\tfod\\lib\\site-packages\\tensorflow\\python\\util\\deprecation.py:629: calling map_fn_v2 (from tensorflow.python.ops.map_fn) with dtype is deprecated and will be removed in a future version.\n",
      "Instructions for updating:\n",
      "Use fn_output_signature instead\n",
      "INFO:tensorflow:Step 100 per-step time 0.230s\n",
      "I1120 17:11:39.523174 22104 model_lib_v2.py:705] Step 100 per-step time 0.230s\n",
      "INFO:tensorflow:{'Loss/classification_loss': 1.0304874,\n",
      " 'Loss/localization_loss': 0.5774495,\n",
      " 'Loss/regularization_loss': 0.1772894,\n",
      " 'Loss/total_loss': 1.7852262,\n",
      " 'learning_rate': 0.0319994}\n",
      "I1120 17:11:39.523174 22104 model_lib_v2.py:708] {'Loss/classification_loss': 1.0304874,\n",
      " 'Loss/localization_loss': 0.5774495,\n",
      " 'Loss/regularization_loss': 0.1772894,\n",
      " 'Loss/total_loss': 1.7852262,\n",
      " 'learning_rate': 0.0319994}\n",
      "INFO:tensorflow:Step 200 per-step time 0.053s\n",
      "I1120 17:11:44.814509 22104 model_lib_v2.py:705] Step 200 per-step time 0.053s\n",
      "INFO:tensorflow:{'Loss/classification_loss': nan,\n",
      " 'Loss/localization_loss': nan,\n",
      " 'Loss/regularization_loss': nan,\n",
      " 'Loss/total_loss': nan,\n",
      " 'learning_rate': 0.0373328}\n",
      "I1120 17:11:44.814509 22104 model_lib_v2.py:708] {'Loss/classification_loss': nan,\n",
      " 'Loss/localization_loss': nan,\n",
      " 'Loss/regularization_loss': nan,\n",
      " 'Loss/total_loss': nan,\n",
      " 'learning_rate': 0.0373328}\n",
      "INFO:tensorflow:Step 300 per-step time 0.053s\n",
      "I1120 17:11:50.061034 22104 model_lib_v2.py:705] Step 300 per-step time 0.053s\n",
      "INFO:tensorflow:{'Loss/classification_loss': nan,\n",
      " 'Loss/localization_loss': nan,\n",
      " 'Loss/regularization_loss': nan,\n",
      " 'Loss/total_loss': nan,\n",
      " 'learning_rate': 0.0426662}\n",
      "I1120 17:11:50.061034 22104 model_lib_v2.py:708] {'Loss/classification_loss': nan,\n",
      " 'Loss/localization_loss': nan,\n",
      " 'Loss/regularization_loss': nan,\n",
      " 'Loss/total_loss': nan,\n",
      " 'learning_rate': 0.0426662}\n",
      "INFO:tensorflow:Step 400 per-step time 0.054s\n",
      "I1120 17:11:55.438273 22104 model_lib_v2.py:705] Step 400 per-step time 0.054s\n",
      "INFO:tensorflow:{'Loss/classification_loss': nan,\n",
      " 'Loss/localization_loss': nan,\n",
      " 'Loss/regularization_loss': nan,\n",
      " 'Loss/total_loss': nan,\n",
      " 'learning_rate': 0.047999598}\n",
      "I1120 17:11:55.438273 22104 model_lib_v2.py:708] {'Loss/classification_loss': nan,\n",
      " 'Loss/localization_loss': nan,\n",
      " 'Loss/regularization_loss': nan,\n",
      " 'Loss/total_loss': nan,\n",
      " 'learning_rate': 0.047999598}\n",
      "INFO:tensorflow:Step 500 per-step time 0.056s\n",
      "I1120 17:12:01.046386 22104 model_lib_v2.py:705] Step 500 per-step time 0.056s\n",
      "INFO:tensorflow:{'Loss/classification_loss': nan,\n",
      " 'Loss/localization_loss': nan,\n",
      " 'Loss/regularization_loss': nan,\n",
      " 'Loss/total_loss': nan,\n",
      " 'learning_rate': 0.053333}\n",
      "I1120 17:12:01.046386 22104 model_lib_v2.py:708] {'Loss/classification_loss': nan,\n",
      " 'Loss/localization_loss': nan,\n",
      " 'Loss/regularization_loss': nan,\n",
      " 'Loss/total_loss': nan,\n",
      " 'learning_rate': 0.053333}\n",
      "INFO:tensorflow:Step 600 per-step time 0.060s\n",
      "I1120 17:12:06.992058 22104 model_lib_v2.py:705] Step 600 per-step time 0.060s\n",
      "INFO:tensorflow:{'Loss/classification_loss': nan,\n",
      " 'Loss/localization_loss': nan,\n",
      " 'Loss/regularization_loss': nan,\n",
      " 'Loss/total_loss': nan,\n",
      " 'learning_rate': 0.0586664}\n",
      "I1120 17:12:06.993054 22104 model_lib_v2.py:708] {'Loss/classification_loss': nan,\n",
      " 'Loss/localization_loss': nan,\n",
      " 'Loss/regularization_loss': nan,\n",
      " 'Loss/total_loss': nan,\n",
      " 'learning_rate': 0.0586664}\n",
      "INFO:tensorflow:Step 700 per-step time 0.059s\n",
      "I1120 17:12:12.941377 22104 model_lib_v2.py:705] Step 700 per-step time 0.059s\n",
      "INFO:tensorflow:{'Loss/classification_loss': nan,\n",
      " 'Loss/localization_loss': nan,\n",
      " 'Loss/regularization_loss': nan,\n",
      " 'Loss/total_loss': nan,\n",
      " 'learning_rate': 0.0639998}\n",
      "I1120 17:12:12.941377 22104 model_lib_v2.py:708] {'Loss/classification_loss': nan,\n",
      " 'Loss/localization_loss': nan,\n",
      " 'Loss/regularization_loss': nan,\n",
      " 'Loss/total_loss': nan,\n",
      " 'learning_rate': 0.0639998}\n",
      "INFO:tensorflow:Step 800 per-step time 0.063s\n",
      "I1120 17:12:19.190550 22104 model_lib_v2.py:705] Step 800 per-step time 0.063s\n",
      "INFO:tensorflow:{'Loss/classification_loss': nan,\n",
      " 'Loss/localization_loss': nan,\n",
      " 'Loss/regularization_loss': nan,\n",
      " 'Loss/total_loss': nan,\n",
      " 'learning_rate': 0.069333196}\n",
      "I1120 17:12:19.191546 22104 model_lib_v2.py:708] {'Loss/classification_loss': nan,\n",
      " 'Loss/localization_loss': nan,\n",
      " 'Loss/regularization_loss': nan,\n",
      " 'Loss/total_loss': nan,\n",
      " 'learning_rate': 0.069333196}\n",
      "INFO:tensorflow:Step 900 per-step time 0.064s\n",
      "I1120 17:12:25.554120 22104 model_lib_v2.py:705] Step 900 per-step time 0.064s\n",
      "INFO:tensorflow:{'Loss/classification_loss': nan,\n",
      " 'Loss/localization_loss': nan,\n",
      " 'Loss/regularization_loss': nan,\n",
      " 'Loss/total_loss': nan,\n",
      " 'learning_rate': 0.074666604}\n",
      "I1120 17:12:25.554120 22104 model_lib_v2.py:708] {'Loss/classification_loss': nan,\n",
      " 'Loss/localization_loss': nan,\n",
      " 'Loss/regularization_loss': nan,\n",
      " 'Loss/total_loss': nan,\n",
      " 'learning_rate': 0.074666604}\n",
      "INFO:tensorflow:Step 1000 per-step time 0.065s\n",
      "I1120 17:12:32.036879 22104 model_lib_v2.py:705] Step 1000 per-step time 0.065s\n",
      "INFO:tensorflow:{'Loss/classification_loss': nan,\n",
      " 'Loss/localization_loss': nan,\n",
      " 'Loss/regularization_loss': nan,\n",
      " 'Loss/total_loss': nan,\n",
      " 'learning_rate': 0.08}\n",
      "I1120 17:12:32.036879 22104 model_lib_v2.py:708] {'Loss/classification_loss': nan,\n",
      " 'Loss/localization_loss': nan,\n",
      " 'Loss/regularization_loss': nan,\n",
      " 'Loss/total_loss': nan,\n",
      " 'learning_rate': 0.08}\n",
      "INFO:tensorflow:Step 1100 per-step time 0.074s\n",
      "I1120 17:12:39.473627 22104 model_lib_v2.py:705] Step 1100 per-step time 0.074s\n",
      "INFO:tensorflow:{'Loss/classification_loss': nan,\n",
      " 'Loss/localization_loss': nan,\n",
      " 'Loss/regularization_loss': nan,\n",
      " 'Loss/total_loss': nan,\n",
      " 'learning_rate': 0.07999918}\n",
      "I1120 17:12:39.473627 22104 model_lib_v2.py:708] {'Loss/classification_loss': nan,\n",
      " 'Loss/localization_loss': nan,\n",
      " 'Loss/regularization_loss': nan,\n",
      " 'Loss/total_loss': nan,\n",
      " 'learning_rate': 0.07999918}\n",
      "INFO:tensorflow:Step 1200 per-step time 0.069s\n",
      "I1120 17:12:46.323225 22104 model_lib_v2.py:705] Step 1200 per-step time 0.069s\n",
      "INFO:tensorflow:{'Loss/classification_loss': nan,\n",
      " 'Loss/localization_loss': nan,\n",
      " 'Loss/regularization_loss': nan,\n",
      " 'Loss/total_loss': nan,\n",
      " 'learning_rate': 0.079996705}\n",
      "I1120 17:12:46.323225 22104 model_lib_v2.py:708] {'Loss/classification_loss': nan,\n",
      " 'Loss/localization_loss': nan,\n",
      " 'Loss/regularization_loss': nan,\n",
      " 'Loss/total_loss': nan,\n",
      " 'learning_rate': 0.079996705}\n",
      "INFO:tensorflow:Step 1300 per-step time 0.062s\n",
      "I1120 17:12:52.482797 22104 model_lib_v2.py:705] Step 1300 per-step time 0.062s\n",
      "INFO:tensorflow:{'Loss/classification_loss': nan,\n",
      " 'Loss/localization_loss': nan,\n",
      " 'Loss/regularization_loss': nan,\n",
      " 'Loss/total_loss': nan,\n",
      " 'learning_rate': 0.0799926}\n",
      "I1120 17:12:52.482797 22104 model_lib_v2.py:708] {'Loss/classification_loss': nan,\n",
      " 'Loss/localization_loss': nan,\n",
      " 'Loss/regularization_loss': nan,\n",
      " 'Loss/total_loss': nan,\n",
      " 'learning_rate': 0.0799926}\n",
      "INFO:tensorflow:Step 1400 per-step time 0.061s\n",
      "I1120 17:12:58.610233 22104 model_lib_v2.py:705] Step 1400 per-step time 0.061s\n",
      "INFO:tensorflow:{'Loss/classification_loss': nan,\n",
      " 'Loss/localization_loss': nan,\n",
      " 'Loss/regularization_loss': nan,\n",
      " 'Loss/total_loss': nan,\n",
      " 'learning_rate': 0.07998685}\n",
      "I1120 17:12:58.611231 22104 model_lib_v2.py:708] {'Loss/classification_loss': nan,\n",
      " 'Loss/localization_loss': nan,\n",
      " 'Loss/regularization_loss': nan,\n",
      " 'Loss/total_loss': nan,\n",
      " 'learning_rate': 0.07998685}\n",
      "INFO:tensorflow:Step 1500 per-step time 0.065s\n",
      "I1120 17:13:05.139579 22104 model_lib_v2.py:705] Step 1500 per-step time 0.065s\n",
      "INFO:tensorflow:{'Loss/classification_loss': nan,\n",
      " 'Loss/localization_loss': nan,\n",
      " 'Loss/regularization_loss': nan,\n",
      " 'Loss/total_loss': nan,\n",
      " 'learning_rate': 0.07997945}\n",
      "I1120 17:13:05.139579 22104 model_lib_v2.py:708] {'Loss/classification_loss': nan,\n",
      " 'Loss/localization_loss': nan,\n",
      " 'Loss/regularization_loss': nan,\n",
      " 'Loss/total_loss': nan,\n",
      " 'learning_rate': 0.07997945}\n",
      "INFO:tensorflow:Step 1600 per-step time 0.063s\n",
      "I1120 17:13:11.486194 22104 model_lib_v2.py:705] Step 1600 per-step time 0.063s\n",
      "INFO:tensorflow:{'Loss/classification_loss': nan,\n",
      " 'Loss/localization_loss': nan,\n",
      " 'Loss/regularization_loss': nan,\n",
      " 'Loss/total_loss': nan,\n",
      " 'learning_rate': 0.079970405}\n",
      "I1120 17:13:11.487190 22104 model_lib_v2.py:708] {'Loss/classification_loss': nan,\n",
      " 'Loss/localization_loss': nan,\n",
      " 'Loss/regularization_loss': nan,\n",
      " 'Loss/total_loss': nan,\n",
      " 'learning_rate': 0.079970405}\n",
      "INFO:tensorflow:Step 1700 per-step time 0.062s\n",
      "I1120 17:13:17.694647 22104 model_lib_v2.py:705] Step 1700 per-step time 0.062s\n",
      "INFO:tensorflow:{'Loss/classification_loss': nan,\n",
      " 'Loss/localization_loss': nan,\n",
      " 'Loss/regularization_loss': nan,\n",
      " 'Loss/total_loss': nan,\n",
      " 'learning_rate': 0.07995972}\n",
      "I1120 17:13:17.694721 22104 model_lib_v2.py:708] {'Loss/classification_loss': nan,\n",
      " 'Loss/localization_loss': nan,\n",
      " 'Loss/regularization_loss': nan,\n",
      " 'Loss/total_loss': nan,\n",
      " 'learning_rate': 0.07995972}\n",
      "INFO:tensorflow:Step 1800 per-step time 0.061s\n",
      "I1120 17:13:23.785926 22104 model_lib_v2.py:705] Step 1800 per-step time 0.061s\n",
      "INFO:tensorflow:{'Loss/classification_loss': nan,\n",
      " 'Loss/localization_loss': nan,\n",
      " 'Loss/regularization_loss': nan,\n",
      " 'Loss/total_loss': nan,\n",
      " 'learning_rate': 0.0799474}\n",
      "I1120 17:13:23.785926 22104 model_lib_v2.py:708] {'Loss/classification_loss': nan,\n",
      " 'Loss/localization_loss': nan,\n",
      " 'Loss/regularization_loss': nan,\n",
      " 'Loss/total_loss': nan,\n",
      " 'learning_rate': 0.0799474}\n",
      "INFO:tensorflow:Step 1900 per-step time 0.061s\n",
      "I1120 17:13:29.849447 22104 model_lib_v2.py:705] Step 1900 per-step time 0.061s\n",
      "INFO:tensorflow:{'Loss/classification_loss': nan,\n",
      " 'Loss/localization_loss': nan,\n",
      " 'Loss/regularization_loss': nan,\n",
      " 'Loss/total_loss': nan,\n",
      " 'learning_rate': 0.07993342}\n",
      "I1120 17:13:29.849447 22104 model_lib_v2.py:708] {'Loss/classification_loss': nan,\n",
      " 'Loss/localization_loss': nan,\n",
      " 'Loss/regularization_loss': nan,\n",
      " 'Loss/total_loss': nan,\n",
      " 'learning_rate': 0.07993342}\n",
      "INFO:tensorflow:Step 2000 per-step time 0.060s\n",
      "I1120 17:13:35.870957 22104 model_lib_v2.py:705] Step 2000 per-step time 0.060s\n",
      "INFO:tensorflow:{'Loss/classification_loss': nan,\n",
      " 'Loss/localization_loss': nan,\n",
      " 'Loss/regularization_loss': nan,\n",
      " 'Loss/total_loss': nan,\n",
      " 'learning_rate': 0.07991781}\n",
      "I1120 17:13:35.870957 22104 model_lib_v2.py:708] {'Loss/classification_loss': nan,\n",
      " 'Loss/localization_loss': nan,\n",
      " 'Loss/regularization_loss': nan,\n",
      " 'Loss/total_loss': nan,\n",
      " 'learning_rate': 0.07991781}\n",
      "INFO:tensorflow:Step 2100 per-step time 0.068s\n",
      "I1120 17:13:42.661005 22104 model_lib_v2.py:705] Step 2100 per-step time 0.068s\n",
      "INFO:tensorflow:{'Loss/classification_loss': nan,\n",
      " 'Loss/localization_loss': nan,\n",
      " 'Loss/regularization_loss': nan,\n",
      " 'Loss/total_loss': nan,\n",
      " 'learning_rate': 0.07990056}\n",
      "I1120 17:13:42.661994 22104 model_lib_v2.py:708] {'Loss/classification_loss': nan,\n",
      " 'Loss/localization_loss': nan,\n",
      " 'Loss/regularization_loss': nan,\n",
      " 'Loss/total_loss': nan,\n",
      " 'learning_rate': 0.07990056}\n",
      "INFO:tensorflow:Step 2200 per-step time 0.062s\n",
      "I1120 17:13:48.842960 22104 model_lib_v2.py:705] Step 2200 per-step time 0.062s\n",
      "INFO:tensorflow:{'Loss/classification_loss': nan,\n",
      " 'Loss/localization_loss': nan,\n",
      " 'Loss/regularization_loss': nan,\n",
      " 'Loss/total_loss': nan,\n",
      " 'learning_rate': 0.07988167}\n",
      "I1120 17:13:48.843961 22104 model_lib_v2.py:708] {'Loss/classification_loss': nan,\n",
      " 'Loss/localization_loss': nan,\n",
      " 'Loss/regularization_loss': nan,\n",
      " 'Loss/total_loss': nan,\n",
      " 'learning_rate': 0.07988167}\n",
      "INFO:tensorflow:Step 2300 per-step time 0.061s\n",
      "I1120 17:13:54.978269 22104 model_lib_v2.py:705] Step 2300 per-step time 0.061s\n",
      "INFO:tensorflow:{'Loss/classification_loss': nan,\n",
      " 'Loss/localization_loss': nan,\n",
      " 'Loss/regularization_loss': nan,\n",
      " 'Loss/total_loss': nan,\n",
      " 'learning_rate': 0.07986114}\n",
      "I1120 17:13:54.979269 22104 model_lib_v2.py:708] {'Loss/classification_loss': nan,\n",
      " 'Loss/localization_loss': nan,\n",
      " 'Loss/regularization_loss': nan,\n",
      " 'Loss/total_loss': nan,\n",
      " 'learning_rate': 0.07986114}\n",
      "INFO:tensorflow:Step 2400 per-step time 0.064s\n",
      "I1120 17:14:01.368885 22104 model_lib_v2.py:705] Step 2400 per-step time 0.064s\n",
      "INFO:tensorflow:{'Loss/classification_loss': nan,\n",
      " 'Loss/localization_loss': nan,\n",
      " 'Loss/regularization_loss': nan,\n",
      " 'Loss/total_loss': nan,\n",
      " 'learning_rate': 0.07983897}\n",
      "I1120 17:14:01.368885 22104 model_lib_v2.py:708] {'Loss/classification_loss': nan,\n",
      " 'Loss/localization_loss': nan,\n",
      " 'Loss/regularization_loss': nan,\n",
      " 'Loss/total_loss': nan,\n",
      " 'learning_rate': 0.07983897}\n",
      "INFO:tensorflow:Step 2500 per-step time 0.062s\n",
      "I1120 17:14:07.545626 22104 model_lib_v2.py:705] Step 2500 per-step time 0.062s\n",
      "INFO:tensorflow:{'Loss/classification_loss': nan,\n",
      " 'Loss/localization_loss': nan,\n",
      " 'Loss/regularization_loss': nan,\n",
      " 'Loss/total_loss': nan,\n",
      " 'learning_rate': 0.079815164}\n",
      "I1120 17:14:07.545626 22104 model_lib_v2.py:708] {'Loss/classification_loss': nan,\n",
      " 'Loss/localization_loss': nan,\n",
      " 'Loss/regularization_loss': nan,\n",
      " 'Loss/total_loss': nan,\n",
      " 'learning_rate': 0.079815164}\n",
      "INFO:tensorflow:Step 2600 per-step time 0.062s\n",
      "I1120 17:14:13.745951 22104 model_lib_v2.py:705] Step 2600 per-step time 0.062s\n",
      "INFO:tensorflow:{'Loss/classification_loss': nan,\n",
      " 'Loss/localization_loss': nan,\n",
      " 'Loss/regularization_loss': nan,\n",
      " 'Loss/total_loss': nan,\n",
      " 'learning_rate': 0.07978972}\n",
      "I1120 17:14:13.746331 22104 model_lib_v2.py:708] {'Loss/classification_loss': nan,\n",
      " 'Loss/localization_loss': nan,\n",
      " 'Loss/regularization_loss': nan,\n",
      " 'Loss/total_loss': nan,\n",
      " 'learning_rate': 0.07978972}\n",
      "INFO:tensorflow:Step 2700 per-step time 0.062s\n",
      "I1120 17:14:19.919515 22104 model_lib_v2.py:705] Step 2700 per-step time 0.062s\n",
      "INFO:tensorflow:{'Loss/classification_loss': nan,\n",
      " 'Loss/localization_loss': nan,\n",
      " 'Loss/regularization_loss': nan,\n",
      " 'Loss/total_loss': nan,\n",
      " 'learning_rate': 0.07976264}\n",
      "I1120 17:14:19.919515 22104 model_lib_v2.py:708] {'Loss/classification_loss': nan,\n",
      " 'Loss/localization_loss': nan,\n",
      " 'Loss/regularization_loss': nan,\n",
      " 'Loss/total_loss': nan,\n",
      " 'learning_rate': 0.07976264}\n",
      "INFO:tensorflow:Step 2800 per-step time 0.064s\n",
      "I1120 17:14:26.307155 22104 model_lib_v2.py:705] Step 2800 per-step time 0.064s\n",
      "INFO:tensorflow:{'Loss/classification_loss': nan,\n",
      " 'Loss/localization_loss': nan,\n",
      " 'Loss/regularization_loss': nan,\n",
      " 'Loss/total_loss': nan,\n",
      " 'learning_rate': 0.07973392}\n",
      "I1120 17:14:26.307155 22104 model_lib_v2.py:708] {'Loss/classification_loss': nan,\n",
      " 'Loss/localization_loss': nan,\n",
      " 'Loss/regularization_loss': nan,\n",
      " 'Loss/total_loss': nan,\n",
      " 'learning_rate': 0.07973392}\n",
      "INFO:tensorflow:Step 2900 per-step time 0.062s\n",
      "I1120 17:14:32.543810 22104 model_lib_v2.py:705] Step 2900 per-step time 0.062s\n",
      "INFO:tensorflow:{'Loss/classification_loss': nan,\n",
      " 'Loss/localization_loss': nan,\n",
      " 'Loss/regularization_loss': nan,\n",
      " 'Loss/total_loss': nan,\n",
      " 'learning_rate': 0.07970358}\n",
      "I1120 17:14:32.543810 22104 model_lib_v2.py:708] {'Loss/classification_loss': nan,\n",
      " 'Loss/localization_loss': nan,\n",
      " 'Loss/regularization_loss': nan,\n",
      " 'Loss/total_loss': nan,\n",
      " 'learning_rate': 0.07970358}\n",
      "INFO:tensorflow:Step 3000 per-step time 0.061s\n",
      "I1120 17:14:38.678654 22104 model_lib_v2.py:705] Step 3000 per-step time 0.061s\n",
      "INFO:tensorflow:{'Loss/classification_loss': nan,\n",
      " 'Loss/localization_loss': nan,\n",
      " 'Loss/regularization_loss': nan,\n",
      " 'Loss/total_loss': nan,\n",
      " 'learning_rate': 0.0796716}\n",
      "I1120 17:14:38.678654 22104 model_lib_v2.py:708] {'Loss/classification_loss': nan,\n",
      " 'Loss/localization_loss': nan,\n",
      " 'Loss/regularization_loss': nan,\n",
      " 'Loss/total_loss': nan,\n",
      " 'learning_rate': 0.0796716}\n",
      "INFO:tensorflow:Step 3100 per-step time 0.069s\n",
      "I1120 17:14:45.606855 22104 model_lib_v2.py:705] Step 3100 per-step time 0.069s\n",
      "INFO:tensorflow:{'Loss/classification_loss': nan,\n",
      " 'Loss/localization_loss': nan,\n",
      " 'Loss/regularization_loss': nan,\n",
      " 'Loss/total_loss': nan,\n",
      " 'learning_rate': 0.07963799}\n",
      "I1120 17:14:45.607848 22104 model_lib_v2.py:708] {'Loss/classification_loss': nan,\n",
      " 'Loss/localization_loss': nan,\n",
      " 'Loss/regularization_loss': nan,\n",
      " 'Loss/total_loss': nan,\n",
      " 'learning_rate': 0.07963799}\n",
      "INFO:tensorflow:Step 3200 per-step time 0.064s\n",
      "I1120 17:14:51.994961 22104 model_lib_v2.py:705] Step 3200 per-step time 0.064s\n",
      "INFO:tensorflow:{'Loss/classification_loss': nan,\n",
      " 'Loss/localization_loss': nan,\n",
      " 'Loss/regularization_loss': nan,\n",
      " 'Loss/total_loss': nan,\n",
      " 'learning_rate': 0.07960275}\n",
      "I1120 17:14:51.994961 22104 model_lib_v2.py:708] {'Loss/classification_loss': nan,\n",
      " 'Loss/localization_loss': nan,\n",
      " 'Loss/regularization_loss': nan,\n",
      " 'Loss/total_loss': nan,\n",
      " 'learning_rate': 0.07960275}\n",
      "INFO:tensorflow:Step 3300 per-step time 0.062s\n",
      "I1120 17:14:58.220049 22104 model_lib_v2.py:705] Step 3300 per-step time 0.062s\n",
      "INFO:tensorflow:{'Loss/classification_loss': nan,\n",
      " 'Loss/localization_loss': nan,\n",
      " 'Loss/regularization_loss': nan,\n",
      " 'Loss/total_loss': nan,\n",
      " 'learning_rate': 0.07956588}\n",
      "I1120 17:14:58.220049 22104 model_lib_v2.py:708] {'Loss/classification_loss': nan,\n",
      " 'Loss/localization_loss': nan,\n",
      " 'Loss/regularization_loss': nan,\n",
      " 'Loss/total_loss': nan,\n",
      " 'learning_rate': 0.07956588}\n",
      "INFO:tensorflow:Step 3400 per-step time 0.062s\n",
      "I1120 17:15:04.407093 22104 model_lib_v2.py:705] Step 3400 per-step time 0.062s\n",
      "INFO:tensorflow:{'Loss/classification_loss': nan,\n",
      " 'Loss/localization_loss': nan,\n",
      " 'Loss/regularization_loss': nan,\n",
      " 'Loss/total_loss': nan,\n",
      " 'learning_rate': 0.079527386}\n",
      "I1120 17:15:04.407093 22104 model_lib_v2.py:708] {'Loss/classification_loss': nan,\n",
      " 'Loss/localization_loss': nan,\n",
      " 'Loss/regularization_loss': nan,\n",
      " 'Loss/total_loss': nan,\n",
      " 'learning_rate': 0.079527386}\n",
      "INFO:tensorflow:Step 3500 per-step time 0.062s\n",
      "I1120 17:15:10.652818 22104 model_lib_v2.py:705] Step 3500 per-step time 0.062s\n",
      "INFO:tensorflow:{'Loss/classification_loss': nan,\n",
      " 'Loss/localization_loss': nan,\n",
      " 'Loss/regularization_loss': nan,\n",
      " 'Loss/total_loss': nan,\n",
      " 'learning_rate': 0.07948727}\n",
      "I1120 17:15:10.652818 22104 model_lib_v2.py:708] {'Loss/classification_loss': nan,\n",
      " 'Loss/localization_loss': nan,\n",
      " 'Loss/regularization_loss': nan,\n",
      " 'Loss/total_loss': nan,\n",
      " 'learning_rate': 0.07948727}\n",
      "INFO:tensorflow:Step 3600 per-step time 0.063s\n",
      "I1120 17:15:16.976545 22104 model_lib_v2.py:705] Step 3600 per-step time 0.063s\n",
      "INFO:tensorflow:{'Loss/classification_loss': nan,\n",
      " 'Loss/localization_loss': nan,\n",
      " 'Loss/regularization_loss': nan,\n",
      " 'Loss/total_loss': nan,\n",
      " 'learning_rate': 0.079445526}\n",
      "I1120 17:15:16.976902 22104 model_lib_v2.py:708] {'Loss/classification_loss': nan,\n",
      " 'Loss/localization_loss': nan,\n",
      " 'Loss/regularization_loss': nan,\n",
      " 'Loss/total_loss': nan,\n",
      " 'learning_rate': 0.079445526}\n",
      "INFO:tensorflow:Step 3700 per-step time 0.063s\n",
      "I1120 17:15:23.249445 22104 model_lib_v2.py:705] Step 3700 per-step time 0.063s\n",
      "INFO:tensorflow:{'Loss/classification_loss': nan,\n",
      " 'Loss/localization_loss': nan,\n",
      " 'Loss/regularization_loss': nan,\n",
      " 'Loss/total_loss': nan,\n",
      " 'learning_rate': 0.07940216}\n",
      "I1120 17:15:23.250478 22104 model_lib_v2.py:708] {'Loss/classification_loss': nan,\n",
      " 'Loss/localization_loss': nan,\n",
      " 'Loss/regularization_loss': nan,\n",
      " 'Loss/total_loss': nan,\n",
      " 'learning_rate': 0.07940216}\n",
      "INFO:tensorflow:Step 3800 per-step time 0.061s\n",
      "I1120 17:15:29.311036 22104 model_lib_v2.py:705] Step 3800 per-step time 0.061s\n",
      "INFO:tensorflow:{'Loss/classification_loss': nan,\n",
      " 'Loss/localization_loss': nan,\n",
      " 'Loss/regularization_loss': nan,\n",
      " 'Loss/total_loss': nan,\n",
      " 'learning_rate': 0.079357184}\n",
      "I1120 17:15:29.311036 22104 model_lib_v2.py:708] {'Loss/classification_loss': nan,\n",
      " 'Loss/localization_loss': nan,\n",
      " 'Loss/regularization_loss': nan,\n",
      " 'Loss/total_loss': nan,\n",
      " 'learning_rate': 0.079357184}\n",
      "INFO:tensorflow:Step 3900 per-step time 0.061s\n",
      "I1120 17:15:35.378980 22104 model_lib_v2.py:705] Step 3900 per-step time 0.061s\n",
      "INFO:tensorflow:{'Loss/classification_loss': nan,\n",
      " 'Loss/localization_loss': nan,\n",
      " 'Loss/regularization_loss': nan,\n",
      " 'Loss/total_loss': nan,\n",
      " 'learning_rate': 0.07931058}\n",
      "I1120 17:15:35.379964 22104 model_lib_v2.py:708] {'Loss/classification_loss': nan,\n",
      " 'Loss/localization_loss': nan,\n",
      " 'Loss/regularization_loss': nan,\n",
      " 'Loss/total_loss': nan,\n",
      " 'learning_rate': 0.07931058}\n",
      "INFO:tensorflow:Step 4000 per-step time 0.061s\n",
      "I1120 17:15:41.502079 22104 model_lib_v2.py:705] Step 4000 per-step time 0.061s\n",
      "INFO:tensorflow:{'Loss/classification_loss': nan,\n",
      " 'Loss/localization_loss': nan,\n",
      " 'Loss/regularization_loss': nan,\n",
      " 'Loss/total_loss': nan,\n",
      " 'learning_rate': 0.07926236}\n",
      "I1120 17:15:41.502079 22104 model_lib_v2.py:708] {'Loss/classification_loss': nan,\n",
      " 'Loss/localization_loss': nan,\n",
      " 'Loss/regularization_loss': nan,\n",
      " 'Loss/total_loss': nan,\n",
      " 'learning_rate': 0.07926236}\n",
      "INFO:tensorflow:Step 4100 per-step time 0.066s\n",
      "I1120 17:15:48.108227 22104 model_lib_v2.py:705] Step 4100 per-step time 0.066s\n",
      "INFO:tensorflow:{'Loss/classification_loss': nan,\n",
      " 'Loss/localization_loss': nan,\n",
      " 'Loss/regularization_loss': nan,\n",
      " 'Loss/total_loss': nan,\n",
      " 'learning_rate': 0.07921253}\n",
      "I1120 17:15:48.109222 22104 model_lib_v2.py:708] {'Loss/classification_loss': nan,\n",
      " 'Loss/localization_loss': nan,\n",
      " 'Loss/regularization_loss': nan,\n",
      " 'Loss/total_loss': nan,\n",
      " 'learning_rate': 0.07921253}\n",
      "INFO:tensorflow:Step 4200 per-step time 0.065s\n",
      "I1120 17:15:54.617050 22104 model_lib_v2.py:705] Step 4200 per-step time 0.065s\n",
      "INFO:tensorflow:{'Loss/classification_loss': nan,\n",
      " 'Loss/localization_loss': nan,\n",
      " 'Loss/regularization_loss': nan,\n",
      " 'Loss/total_loss': nan,\n",
      " 'learning_rate': 0.07916109}\n",
      "I1120 17:15:54.617050 22104 model_lib_v2.py:708] {'Loss/classification_loss': nan,\n",
      " 'Loss/localization_loss': nan,\n",
      " 'Loss/regularization_loss': nan,\n",
      " 'Loss/total_loss': nan,\n",
      " 'learning_rate': 0.07916109}\n",
      "INFO:tensorflow:Step 4300 per-step time 0.061s\n",
      "I1120 17:16:00.751994 22104 model_lib_v2.py:705] Step 4300 per-step time 0.061s\n",
      "INFO:tensorflow:{'Loss/classification_loss': nan,\n",
      " 'Loss/localization_loss': nan,\n",
      " 'Loss/regularization_loss': nan,\n",
      " 'Loss/total_loss': nan,\n",
      " 'learning_rate': 0.07910804}\n",
      "I1120 17:16:00.752991 22104 model_lib_v2.py:708] {'Loss/classification_loss': nan,\n",
      " 'Loss/localization_loss': nan,\n",
      " 'Loss/regularization_loss': nan,\n",
      " 'Loss/total_loss': nan,\n",
      " 'learning_rate': 0.07910804}\n",
      "INFO:tensorflow:Step 4400 per-step time 0.060s\n",
      "I1120 17:16:06.744628 22104 model_lib_v2.py:705] Step 4400 per-step time 0.060s\n",
      "INFO:tensorflow:{'Loss/classification_loss': nan,\n",
      " 'Loss/localization_loss': nan,\n",
      " 'Loss/regularization_loss': nan,\n",
      " 'Loss/total_loss': nan,\n",
      " 'learning_rate': 0.07905338}\n",
      "I1120 17:16:06.744628 22104 model_lib_v2.py:708] {'Loss/classification_loss': nan,\n",
      " 'Loss/localization_loss': nan,\n",
      " 'Loss/regularization_loss': nan,\n",
      " 'Loss/total_loss': nan,\n",
      " 'learning_rate': 0.07905338}\n",
      "INFO:tensorflow:Step 4500 per-step time 0.060s\n",
      "I1120 17:16:12.752890 22104 model_lib_v2.py:705] Step 4500 per-step time 0.060s\n",
      "INFO:tensorflow:{'Loss/classification_loss': nan,\n",
      " 'Loss/localization_loss': nan,\n",
      " 'Loss/regularization_loss': nan,\n",
      " 'Loss/total_loss': nan,\n",
      " 'learning_rate': 0.07899711}\n",
      "I1120 17:16:12.752890 22104 model_lib_v2.py:708] {'Loss/classification_loss': nan,\n",
      " 'Loss/localization_loss': nan,\n",
      " 'Loss/regularization_loss': nan,\n",
      " 'Loss/total_loss': nan,\n",
      " 'learning_rate': 0.07899711}\n",
      "INFO:tensorflow:Step 4600 per-step time 0.063s\n",
      "I1120 17:16:19.028114 22104 model_lib_v2.py:705] Step 4600 per-step time 0.063s\n",
      "INFO:tensorflow:{'Loss/classification_loss': nan,\n",
      " 'Loss/localization_loss': nan,\n",
      " 'Loss/regularization_loss': nan,\n",
      " 'Loss/total_loss': nan,\n",
      " 'learning_rate': 0.078939244}\n",
      "I1120 17:16:19.028114 22104 model_lib_v2.py:708] {'Loss/classification_loss': nan,\n",
      " 'Loss/localization_loss': nan,\n",
      " 'Loss/regularization_loss': nan,\n",
      " 'Loss/total_loss': nan,\n",
      " 'learning_rate': 0.078939244}\n",
      "INFO:tensorflow:Step 4700 per-step time 0.065s\n",
      "I1120 17:16:25.567037 22104 model_lib_v2.py:705] Step 4700 per-step time 0.065s\n",
      "INFO:tensorflow:{'Loss/classification_loss': nan,\n",
      " 'Loss/localization_loss': nan,\n",
      " 'Loss/regularization_loss': nan,\n",
      " 'Loss/total_loss': nan,\n",
      " 'learning_rate': 0.07887978}\n",
      "I1120 17:16:25.568034 22104 model_lib_v2.py:708] {'Loss/classification_loss': nan,\n",
      " 'Loss/localization_loss': nan,\n",
      " 'Loss/regularization_loss': nan,\n",
      " 'Loss/total_loss': nan,\n",
      " 'learning_rate': 0.07887978}\n",
      "INFO:tensorflow:Step 4800 per-step time 0.061s\n",
      "I1120 17:16:31.636298 22104 model_lib_v2.py:705] Step 4800 per-step time 0.061s\n",
      "INFO:tensorflow:{'Loss/classification_loss': nan,\n",
      " 'Loss/localization_loss': nan,\n",
      " 'Loss/regularization_loss': nan,\n",
      " 'Loss/total_loss': nan,\n",
      " 'learning_rate': 0.07881871}\n",
      "I1120 17:16:31.636298 22104 model_lib_v2.py:708] {'Loss/classification_loss': nan,\n",
      " 'Loss/localization_loss': nan,\n",
      " 'Loss/regularization_loss': nan,\n",
      " 'Loss/total_loss': nan,\n",
      " 'learning_rate': 0.07881871}\n",
      "INFO:tensorflow:Step 4900 per-step time 0.062s\n",
      "I1120 17:16:37.834478 22104 model_lib_v2.py:705] Step 4900 per-step time 0.062s\n",
      "INFO:tensorflow:{'Loss/classification_loss': nan,\n",
      " 'Loss/localization_loss': nan,\n",
      " 'Loss/regularization_loss': nan,\n",
      " 'Loss/total_loss': nan,\n",
      " 'learning_rate': 0.07875605}\n",
      "I1120 17:16:37.835481 22104 model_lib_v2.py:708] {'Loss/classification_loss': nan,\n",
      " 'Loss/localization_loss': nan,\n",
      " 'Loss/regularization_loss': nan,\n",
      " 'Loss/total_loss': nan,\n",
      " 'learning_rate': 0.07875605}\n",
      "INFO:tensorflow:Step 5000 per-step time 0.062s\n",
      "I1120 17:16:44.069949 22104 model_lib_v2.py:705] Step 5000 per-step time 0.062s\n",
      "INFO:tensorflow:{'Loss/classification_loss': nan,\n",
      " 'Loss/localization_loss': nan,\n",
      " 'Loss/regularization_loss': nan,\n",
      " 'Loss/total_loss': nan,\n",
      " 'learning_rate': 0.078691795}\n",
      "I1120 17:16:44.069949 22104 model_lib_v2.py:708] {'Loss/classification_loss': nan,\n",
      " 'Loss/localization_loss': nan,\n",
      " 'Loss/regularization_loss': nan,\n",
      " 'Loss/total_loss': nan,\n",
      " 'learning_rate': 0.078691795}\n",
      "INFO:tensorflow:Step 5100 per-step time 0.068s\n",
      "I1120 17:16:50.839475 22104 model_lib_v2.py:705] Step 5100 per-step time 0.068s\n",
      "INFO:tensorflow:{'Loss/classification_loss': nan,\n",
      " 'Loss/localization_loss': nan,\n",
      " 'Loss/regularization_loss': nan,\n",
      " 'Loss/total_loss': nan,\n",
      " 'learning_rate': 0.07862595}\n",
      "I1120 17:16:50.839475 22104 model_lib_v2.py:708] {'Loss/classification_loss': nan,\n",
      " 'Loss/localization_loss': nan,\n",
      " 'Loss/regularization_loss': nan,\n",
      " 'Loss/total_loss': nan,\n",
      " 'learning_rate': 0.07862595}\n",
      "INFO:tensorflow:Step 5200 per-step time 0.060s\n",
      "I1120 17:16:56.868312 22104 model_lib_v2.py:705] Step 5200 per-step time 0.060s\n",
      "INFO:tensorflow:{'Loss/classification_loss': nan,\n",
      " 'Loss/localization_loss': nan,\n",
      " 'Loss/regularization_loss': nan,\n",
      " 'Loss/total_loss': nan,\n",
      " 'learning_rate': 0.07855851}\n",
      "I1120 17:16:56.868312 22104 model_lib_v2.py:708] {'Loss/classification_loss': nan,\n",
      " 'Loss/localization_loss': nan,\n",
      " 'Loss/regularization_loss': nan,\n",
      " 'Loss/total_loss': nan,\n",
      " 'learning_rate': 0.07855851}\n",
      "INFO:tensorflow:Step 5300 per-step time 0.061s\n",
      "I1120 17:17:02.938719 22104 model_lib_v2.py:705] Step 5300 per-step time 0.061s\n",
      "INFO:tensorflow:{'Loss/classification_loss': nan,\n",
      " 'Loss/localization_loss': nan,\n",
      " 'Loss/regularization_loss': nan,\n",
      " 'Loss/total_loss': nan,\n",
      " 'learning_rate': 0.07848949}\n",
      "I1120 17:17:02.938719 22104 model_lib_v2.py:708] {'Loss/classification_loss': nan,\n",
      " 'Loss/localization_loss': nan,\n",
      " 'Loss/regularization_loss': nan,\n",
      " 'Loss/total_loss': nan,\n",
      " 'learning_rate': 0.07848949}\n",
      "INFO:tensorflow:Step 5400 per-step time 0.060s\n",
      "I1120 17:17:08.901492 22104 model_lib_v2.py:705] Step 5400 per-step time 0.060s\n",
      "INFO:tensorflow:{'Loss/classification_loss': nan,\n",
      " 'Loss/localization_loss': nan,\n",
      " 'Loss/regularization_loss': nan,\n",
      " 'Loss/total_loss': nan,\n",
      " 'learning_rate': 0.078418896}\n",
      "I1120 17:17:08.901492 22104 model_lib_v2.py:708] {'Loss/classification_loss': nan,\n",
      " 'Loss/localization_loss': nan,\n",
      " 'Loss/regularization_loss': nan,\n",
      " 'Loss/total_loss': nan,\n",
      " 'learning_rate': 0.078418896}\n",
      "INFO:tensorflow:Step 5500 per-step time 0.059s\n",
      "I1120 17:17:14.836621 22104 model_lib_v2.py:705] Step 5500 per-step time 0.059s\n",
      "INFO:tensorflow:{'Loss/classification_loss': nan,\n",
      " 'Loss/localization_loss': nan,\n",
      " 'Loss/regularization_loss': nan,\n",
      " 'Loss/total_loss': nan,\n",
      " 'learning_rate': 0.078346714}\n",
      "I1120 17:17:14.836621 22104 model_lib_v2.py:708] {'Loss/classification_loss': nan,\n",
      " 'Loss/localization_loss': nan,\n",
      " 'Loss/regularization_loss': nan,\n",
      " 'Loss/total_loss': nan,\n",
      " 'learning_rate': 0.078346714}\n",
      "INFO:tensorflow:Step 5600 per-step time 0.061s\n",
      "I1120 17:17:20.931621 22104 model_lib_v2.py:705] Step 5600 per-step time 0.061s\n",
      "INFO:tensorflow:{'Loss/classification_loss': nan,\n",
      " 'Loss/localization_loss': nan,\n",
      " 'Loss/regularization_loss': nan,\n",
      " 'Loss/total_loss': nan,\n",
      " 'learning_rate': 0.07827295}\n",
      "I1120 17:17:20.931621 22104 model_lib_v2.py:708] {'Loss/classification_loss': nan,\n",
      " 'Loss/localization_loss': nan,\n",
      " 'Loss/regularization_loss': nan,\n",
      " 'Loss/total_loss': nan,\n",
      " 'learning_rate': 0.07827295}\n",
      "INFO:tensorflow:Step 5700 per-step time 0.061s\n",
      "I1120 17:17:27.021389 22104 model_lib_v2.py:705] Step 5700 per-step time 0.061s\n",
      "INFO:tensorflow:{'Loss/classification_loss': nan,\n",
      " 'Loss/localization_loss': nan,\n",
      " 'Loss/regularization_loss': nan,\n",
      " 'Loss/total_loss': nan,\n",
      " 'learning_rate': 0.07819763}\n",
      "I1120 17:17:27.021389 22104 model_lib_v2.py:708] {'Loss/classification_loss': nan,\n",
      " 'Loss/localization_loss': nan,\n",
      " 'Loss/regularization_loss': nan,\n",
      " 'Loss/total_loss': nan,\n",
      " 'learning_rate': 0.07819763}\n",
      "INFO:tensorflow:Step 5800 per-step time 0.060s\n",
      "I1120 17:17:33.023922 22104 model_lib_v2.py:705] Step 5800 per-step time 0.060s\n",
      "INFO:tensorflow:{'Loss/classification_loss': nan,\n",
      " 'Loss/localization_loss': nan,\n",
      " 'Loss/regularization_loss': nan,\n",
      " 'Loss/total_loss': nan,\n",
      " 'learning_rate': 0.07812072}\n",
      "I1120 17:17:33.024918 22104 model_lib_v2.py:708] {'Loss/classification_loss': nan,\n",
      " 'Loss/localization_loss': nan,\n",
      " 'Loss/regularization_loss': nan,\n",
      " 'Loss/total_loss': nan,\n",
      " 'learning_rate': 0.07812072}\n",
      "INFO:tensorflow:Step 5900 per-step time 0.059s\n",
      "I1120 17:17:38.963168 22104 model_lib_v2.py:705] Step 5900 per-step time 0.059s\n",
      "INFO:tensorflow:{'Loss/classification_loss': nan,\n",
      " 'Loss/localization_loss': nan,\n",
      " 'Loss/regularization_loss': nan,\n",
      " 'Loss/total_loss': nan,\n",
      " 'learning_rate': 0.078042254}\n",
      "I1120 17:17:38.963168 22104 model_lib_v2.py:708] {'Loss/classification_loss': nan,\n",
      " 'Loss/localization_loss': nan,\n",
      " 'Loss/regularization_loss': nan,\n",
      " 'Loss/total_loss': nan,\n",
      " 'learning_rate': 0.078042254}\n",
      "INFO:tensorflow:Step 6000 per-step time 0.061s\n",
      "I1120 17:17:45.076646 22104 model_lib_v2.py:705] Step 6000 per-step time 0.061s\n",
      "INFO:tensorflow:{'Loss/classification_loss': nan,\n",
      " 'Loss/localization_loss': nan,\n",
      " 'Loss/regularization_loss': nan,\n",
      " 'Loss/total_loss': nan,\n",
      " 'learning_rate': 0.07796223}\n",
      "I1120 17:17:45.076646 22104 model_lib_v2.py:708] {'Loss/classification_loss': nan,\n",
      " 'Loss/localization_loss': nan,\n",
      " 'Loss/regularization_loss': nan,\n",
      " 'Loss/total_loss': nan,\n",
      " 'learning_rate': 0.07796223}\n",
      "INFO:tensorflow:Step 6100 per-step time 0.068s\n",
      "I1120 17:17:51.861663 22104 model_lib_v2.py:705] Step 6100 per-step time 0.068s\n",
      "INFO:tensorflow:{'Loss/classification_loss': nan,\n",
      " 'Loss/localization_loss': nan,\n",
      " 'Loss/regularization_loss': nan,\n",
      " 'Loss/total_loss': nan,\n",
      " 'learning_rate': 0.077880636}\n",
      "I1120 17:17:51.861663 22104 model_lib_v2.py:708] {'Loss/classification_loss': nan,\n",
      " 'Loss/localization_loss': nan,\n",
      " 'Loss/regularization_loss': nan,\n",
      " 'Loss/total_loss': nan,\n",
      " 'learning_rate': 0.077880636}\n",
      "INFO:tensorflow:Step 6200 per-step time 0.062s\n",
      "I1120 17:17:58.097949 22104 model_lib_v2.py:705] Step 6200 per-step time 0.062s\n",
      "INFO:tensorflow:{'Loss/classification_loss': nan,\n",
      " 'Loss/localization_loss': nan,\n",
      " 'Loss/regularization_loss': nan,\n",
      " 'Loss/total_loss': nan,\n",
      " 'learning_rate': 0.07779749}\n",
      "I1120 17:17:58.097949 22104 model_lib_v2.py:708] {'Loss/classification_loss': nan,\n",
      " 'Loss/localization_loss': nan,\n",
      " 'Loss/regularization_loss': nan,\n",
      " 'Loss/total_loss': nan,\n",
      " 'learning_rate': 0.07779749}\n",
      "INFO:tensorflow:Step 6300 per-step time 0.060s\n",
      "I1120 17:18:04.147061 22104 model_lib_v2.py:705] Step 6300 per-step time 0.060s\n",
      "INFO:tensorflow:{'Loss/classification_loss': nan,\n",
      " 'Loss/localization_loss': nan,\n",
      " 'Loss/regularization_loss': nan,\n",
      " 'Loss/total_loss': nan,\n",
      " 'learning_rate': 0.07771279}\n",
      "I1120 17:18:04.148061 22104 model_lib_v2.py:708] {'Loss/classification_loss': nan,\n",
      " 'Loss/localization_loss': nan,\n",
      " 'Loss/regularization_loss': nan,\n",
      " 'Loss/total_loss': nan,\n",
      " 'learning_rate': 0.07771279}\n",
      "INFO:tensorflow:Step 6400 per-step time 0.063s\n",
      "I1120 17:18:10.396170 22104 model_lib_v2.py:705] Step 6400 per-step time 0.063s\n",
      "INFO:tensorflow:{'Loss/classification_loss': nan,\n",
      " 'Loss/localization_loss': nan,\n",
      " 'Loss/regularization_loss': nan,\n",
      " 'Loss/total_loss': nan,\n",
      " 'learning_rate': 0.077626534}\n",
      "I1120 17:18:10.397167 22104 model_lib_v2.py:708] {'Loss/classification_loss': nan,\n",
      " 'Loss/localization_loss': nan,\n",
      " 'Loss/regularization_loss': nan,\n",
      " 'Loss/total_loss': nan,\n",
      " 'learning_rate': 0.077626534}\n",
      "INFO:tensorflow:Step 6500 per-step time 0.061s\n",
      "I1120 17:18:16.461730 22104 model_lib_v2.py:705] Step 6500 per-step time 0.061s\n",
      "INFO:tensorflow:{'Loss/classification_loss': nan,\n",
      " 'Loss/localization_loss': nan,\n",
      " 'Loss/regularization_loss': nan,\n",
      " 'Loss/total_loss': nan,\n",
      " 'learning_rate': 0.077538736}\n",
      "I1120 17:18:16.462725 22104 model_lib_v2.py:708] {'Loss/classification_loss': nan,\n",
      " 'Loss/localization_loss': nan,\n",
      " 'Loss/regularization_loss': nan,\n",
      " 'Loss/total_loss': nan,\n",
      " 'learning_rate': 0.077538736}\n",
      "INFO:tensorflow:Step 6600 per-step time 0.060s\n",
      "I1120 17:18:22.424549 22104 model_lib_v2.py:705] Step 6600 per-step time 0.060s\n",
      "INFO:tensorflow:{'Loss/classification_loss': nan,\n",
      " 'Loss/localization_loss': nan,\n",
      " 'Loss/regularization_loss': nan,\n",
      " 'Loss/total_loss': nan,\n",
      " 'learning_rate': 0.077449396}\n",
      "I1120 17:18:22.424549 22104 model_lib_v2.py:708] {'Loss/classification_loss': nan,\n",
      " 'Loss/localization_loss': nan,\n",
      " 'Loss/regularization_loss': nan,\n",
      " 'Loss/total_loss': nan,\n",
      " 'learning_rate': 0.077449396}\n",
      "INFO:tensorflow:Step 6700 per-step time 0.059s\n",
      "I1120 17:18:28.367050 22104 model_lib_v2.py:705] Step 6700 per-step time 0.059s\n",
      "INFO:tensorflow:{'Loss/classification_loss': nan,\n",
      " 'Loss/localization_loss': nan,\n",
      " 'Loss/regularization_loss': nan,\n",
      " 'Loss/total_loss': nan,\n",
      " 'learning_rate': 0.077358514}\n",
      "I1120 17:18:28.367050 22104 model_lib_v2.py:708] {'Loss/classification_loss': nan,\n",
      " 'Loss/localization_loss': nan,\n",
      " 'Loss/regularization_loss': nan,\n",
      " 'Loss/total_loss': nan,\n",
      " 'learning_rate': 0.077358514}\n",
      "INFO:tensorflow:Step 6800 per-step time 0.060s\n",
      "I1120 17:18:34.335479 22104 model_lib_v2.py:705] Step 6800 per-step time 0.060s\n",
      "INFO:tensorflow:{'Loss/classification_loss': nan,\n",
      " 'Loss/localization_loss': nan,\n",
      " 'Loss/regularization_loss': nan,\n",
      " 'Loss/total_loss': nan,\n",
      " 'learning_rate': 0.0772661}\n",
      "I1120 17:18:34.335479 22104 model_lib_v2.py:708] {'Loss/classification_loss': nan,\n",
      " 'Loss/localization_loss': nan,\n",
      " 'Loss/regularization_loss': nan,\n",
      " 'Loss/total_loss': nan,\n",
      " 'learning_rate': 0.0772661}\n",
      "INFO:tensorflow:Step 6900 per-step time 0.060s\n",
      "I1120 17:18:40.351447 22104 model_lib_v2.py:705] Step 6900 per-step time 0.060s\n",
      "INFO:tensorflow:{'Loss/classification_loss': nan,\n",
      " 'Loss/localization_loss': nan,\n",
      " 'Loss/regularization_loss': nan,\n",
      " 'Loss/total_loss': nan,\n",
      " 'learning_rate': 0.077172145}\n",
      "I1120 17:18:40.352444 22104 model_lib_v2.py:708] {'Loss/classification_loss': nan,\n",
      " 'Loss/localization_loss': nan,\n",
      " 'Loss/regularization_loss': nan,\n",
      " 'Loss/total_loss': nan,\n",
      " 'learning_rate': 0.077172145}\n",
      "INFO:tensorflow:Step 7000 per-step time 0.060s\n",
      "I1120 17:18:46.350706 22104 model_lib_v2.py:705] Step 7000 per-step time 0.060s\n",
      "INFO:tensorflow:{'Loss/classification_loss': nan,\n",
      " 'Loss/localization_loss': nan,\n",
      " 'Loss/regularization_loss': nan,\n",
      " 'Loss/total_loss': nan,\n",
      " 'learning_rate': 0.07707667}\n",
      "I1120 17:18:46.350706 22104 model_lib_v2.py:708] {'Loss/classification_loss': nan,\n",
      " 'Loss/localization_loss': nan,\n",
      " 'Loss/regularization_loss': nan,\n",
      " 'Loss/total_loss': nan,\n",
      " 'learning_rate': 0.07707667}\n",
      "INFO:tensorflow:Step 7100 per-step time 0.067s\n",
      "I1120 17:18:53.074023 22104 model_lib_v2.py:705] Step 7100 per-step time 0.067s\n",
      "INFO:tensorflow:{'Loss/classification_loss': nan,\n",
      " 'Loss/localization_loss': nan,\n",
      " 'Loss/regularization_loss': nan,\n",
      " 'Loss/total_loss': nan,\n",
      " 'learning_rate': 0.07697967}\n",
      "I1120 17:18:53.075020 22104 model_lib_v2.py:708] {'Loss/classification_loss': nan,\n",
      " 'Loss/localization_loss': nan,\n",
      " 'Loss/regularization_loss': nan,\n",
      " 'Loss/total_loss': nan,\n",
      " 'learning_rate': 0.07697967}\n",
      "INFO:tensorflow:Step 7200 per-step time 0.060s\n",
      "I1120 17:18:59.115790 22104 model_lib_v2.py:705] Step 7200 per-step time 0.060s\n",
      "INFO:tensorflow:{'Loss/classification_loss': nan,\n",
      " 'Loss/localization_loss': nan,\n",
      " 'Loss/regularization_loss': nan,\n",
      " 'Loss/total_loss': nan,\n",
      " 'learning_rate': 0.07688115}\n",
      "I1120 17:18:59.116786 22104 model_lib_v2.py:708] {'Loss/classification_loss': nan,\n",
      " 'Loss/localization_loss': nan,\n",
      " 'Loss/regularization_loss': nan,\n",
      " 'Loss/total_loss': nan,\n",
      " 'learning_rate': 0.07688115}\n",
      "INFO:tensorflow:Step 7300 per-step time 0.060s\n",
      "I1120 17:19:05.083855 22104 model_lib_v2.py:705] Step 7300 per-step time 0.060s\n",
      "INFO:tensorflow:{'Loss/classification_loss': nan,\n",
      " 'Loss/localization_loss': nan,\n",
      " 'Loss/regularization_loss': nan,\n",
      " 'Loss/total_loss': nan,\n",
      " 'learning_rate': 0.07678111}\n",
      "I1120 17:19:05.083855 22104 model_lib_v2.py:708] {'Loss/classification_loss': nan,\n",
      " 'Loss/localization_loss': nan,\n",
      " 'Loss/regularization_loss': nan,\n",
      " 'Loss/total_loss': nan,\n",
      " 'learning_rate': 0.07678111}\n",
      "INFO:tensorflow:Step 7400 per-step time 0.060s\n",
      "I1120 17:19:11.080478 22104 model_lib_v2.py:705] Step 7400 per-step time 0.060s\n",
      "INFO:tensorflow:{'Loss/classification_loss': nan,\n",
      " 'Loss/localization_loss': nan,\n",
      " 'Loss/regularization_loss': nan,\n",
      " 'Loss/total_loss': nan,\n",
      " 'learning_rate': 0.076679565}\n",
      "I1120 17:19:11.081475 22104 model_lib_v2.py:708] {'Loss/classification_loss': nan,\n",
      " 'Loss/localization_loss': nan,\n",
      " 'Loss/regularization_loss': nan,\n",
      " 'Loss/total_loss': nan,\n",
      " 'learning_rate': 0.076679565}\n",
      "INFO:tensorflow:Step 7500 per-step time 0.061s\n",
      "I1120 17:19:17.196584 22104 model_lib_v2.py:705] Step 7500 per-step time 0.061s\n",
      "INFO:tensorflow:{'Loss/classification_loss': nan,\n",
      " 'Loss/localization_loss': nan,\n",
      " 'Loss/regularization_loss': nan,\n",
      " 'Loss/total_loss': nan,\n",
      " 'learning_rate': 0.0765765}\n",
      "I1120 17:19:17.196584 22104 model_lib_v2.py:708] {'Loss/classification_loss': nan,\n",
      " 'Loss/localization_loss': nan,\n",
      " 'Loss/regularization_loss': nan,\n",
      " 'Loss/total_loss': nan,\n",
      " 'learning_rate': 0.0765765}\n",
      "INFO:tensorflow:Step 7600 per-step time 0.061s\n",
      "I1120 17:19:23.324078 22104 model_lib_v2.py:705] Step 7600 per-step time 0.061s\n",
      "INFO:tensorflow:{'Loss/classification_loss': nan,\n",
      " 'Loss/localization_loss': nan,\n",
      " 'Loss/regularization_loss': nan,\n",
      " 'Loss/total_loss': nan,\n",
      " 'learning_rate': 0.07647194}\n",
      "I1120 17:19:23.324078 22104 model_lib_v2.py:708] {'Loss/classification_loss': nan,\n",
      " 'Loss/localization_loss': nan,\n",
      " 'Loss/regularization_loss': nan,\n",
      " 'Loss/total_loss': nan,\n",
      " 'learning_rate': 0.07647194}\n",
      "INFO:tensorflow:Step 7700 per-step time 0.060s\n",
      "I1120 17:19:29.325670 22104 model_lib_v2.py:705] Step 7700 per-step time 0.060s\n",
      "INFO:tensorflow:{'Loss/classification_loss': nan,\n",
      " 'Loss/localization_loss': nan,\n",
      " 'Loss/regularization_loss': nan,\n",
      " 'Loss/total_loss': nan,\n",
      " 'learning_rate': 0.07636588}\n",
      "I1120 17:19:29.325670 22104 model_lib_v2.py:708] {'Loss/classification_loss': nan,\n",
      " 'Loss/localization_loss': nan,\n",
      " 'Loss/regularization_loss': nan,\n",
      " 'Loss/total_loss': nan,\n",
      " 'learning_rate': 0.07636588}\n",
      "INFO:tensorflow:Step 7800 per-step time 0.062s\n",
      "I1120 17:19:35.556586 22104 model_lib_v2.py:705] Step 7800 per-step time 0.062s\n",
      "INFO:tensorflow:{'Loss/classification_loss': nan,\n",
      " 'Loss/localization_loss': nan,\n",
      " 'Loss/regularization_loss': nan,\n",
      " 'Loss/total_loss': nan,\n",
      " 'learning_rate': 0.07625833}\n",
      "I1120 17:19:35.556586 22104 model_lib_v2.py:708] {'Loss/classification_loss': nan,\n",
      " 'Loss/localization_loss': nan,\n",
      " 'Loss/regularization_loss': nan,\n",
      " 'Loss/total_loss': nan,\n",
      " 'learning_rate': 0.07625833}\n",
      "INFO:tensorflow:Step 7900 per-step time 0.061s\n",
      "I1120 17:19:41.635433 22104 model_lib_v2.py:705] Step 7900 per-step time 0.061s\n",
      "INFO:tensorflow:{'Loss/classification_loss': nan,\n",
      " 'Loss/localization_loss': nan,\n",
      " 'Loss/regularization_loss': nan,\n",
      " 'Loss/total_loss': nan,\n",
      " 'learning_rate': 0.07614928}\n",
      "I1120 17:19:41.635433 22104 model_lib_v2.py:708] {'Loss/classification_loss': nan,\n",
      " 'Loss/localization_loss': nan,\n",
      " 'Loss/regularization_loss': nan,\n",
      " 'Loss/total_loss': nan,\n",
      " 'learning_rate': 0.07614928}\n",
      "INFO:tensorflow:Step 8000 per-step time 0.060s\n",
      "I1120 17:19:47.629403 22104 model_lib_v2.py:705] Step 8000 per-step time 0.060s\n",
      "INFO:tensorflow:{'Loss/classification_loss': nan,\n",
      " 'Loss/localization_loss': nan,\n",
      " 'Loss/regularization_loss': nan,\n",
      " 'Loss/total_loss': nan,\n",
      " 'learning_rate': 0.07603875}\n",
      "I1120 17:19:47.629403 22104 model_lib_v2.py:708] {'Loss/classification_loss': nan,\n",
      " 'Loss/localization_loss': nan,\n",
      " 'Loss/regularization_loss': nan,\n",
      " 'Loss/total_loss': nan,\n",
      " 'learning_rate': 0.07603875}\n"
     ]
    }
   ],
   "source": [
    "!{command}"
   ]
  },
  {
   "cell_type": "markdown",
   "metadata": {
    "id": "4_YRZu7npfDH"
   },
   "source": [
    "# 7. Evaluate the Model"
   ]
  },
  {
   "cell_type": "code",
   "execution_count": 214,
   "metadata": {
    "id": "80L7-fdPpfDH"
   },
   "outputs": [],
   "source": [
    "command = \"python {} --model_dir={} --pipeline_config_path={} --checkpoint_dir={}\".format(TRAINING_SCRIPT, paths['CHECKPOINT_PATH'],files['PIPELINE_CONFIG'], paths['CHECKPOINT_PATH'])"
   ]
  },
  {
   "cell_type": "code",
   "execution_count": 215,
   "metadata": {
    "colab": {
     "base_uri": "https://localhost:8080/"
    },
    "id": "lYsgEPx9pfDH",
    "outputId": "8632d48b-91d2-45d9-bcb8-c1b172bf6eed"
   },
   "outputs": [
    {
     "name": "stdout",
     "output_type": "stream",
     "text": [
      "python Tensorflow\\models\\research\\object_detection\\model_main_tf2.py --model_dir=Tensorflow\\workspace\\models\\my_ssd_mobnet_pupil_N15 --pipeline_config_path=Tensorflow\\workspace\\models\\my_ssd_mobnet_pupil_N15\\pipeline.config --checkpoint_dir=Tensorflow\\workspace\\models\\my_ssd_mobnet_pupil_N15\n"
     ]
    }
   ],
   "source": [
    "print(command)"
   ]
  },
  {
   "cell_type": "code",
   "execution_count": null,
   "metadata": {
    "id": "lqTV2jGBpfDH"
   },
   "outputs": [],
   "source": [
    "!{command}"
   ]
  },
  {
   "cell_type": "markdown",
   "metadata": {
    "id": "orvRk02UpfDI"
   },
   "source": [
    "# 8. Load Train Model From Checkpoint"
   ]
  },
  {
   "cell_type": "code",
   "execution_count": 216,
   "metadata": {
    "id": "8TYk4_oIpfDI"
   },
   "outputs": [],
   "source": [
    "import os\n",
    "import tensorflow as tf\n",
    "from object_detection.utils import label_map_util\n",
    "from object_detection.utils import visualization_utils as viz_utils\n",
    "from object_detection.builders import model_builder\n",
    "from object_detection.utils import config_util"
   ]
  },
  {
   "cell_type": "code",
   "execution_count": 217,
   "metadata": {
    "id": "tDnQg-cYpfDI"
   },
   "outputs": [],
   "source": [
    "# Load pipeline config and build a detection model\n",
    "configs = config_util.get_configs_from_pipeline_file(files['PIPELINE_CONFIG'])\n",
    "detection_model = model_builder.build(model_config=configs['model'], is_training=False)\n",
    "\n",
    "# Restore checkpoint\n",
    "ckpt = tf.compat.v2.train.Checkpoint(model=detection_model)\n",
    "ckpt.restore(os.path.join(paths['CHECKPOINT_PATH'], 'ckpt-6')).expect_partial()\n",
    "\n",
    "@tf.function\n",
    "def detect_fn(image):\n",
    "    image, shapes = detection_model.preprocess(image)\n",
    "    prediction_dict = detection_model.predict(image, shapes)\n",
    "    detections = detection_model.postprocess(prediction_dict, shapes)\n",
    "    return detections"
   ]
  },
  {
   "cell_type": "markdown",
   "metadata": {
    "id": "0EmsmbBZpfDI"
   },
   "source": [
    "# 9. Detect from an Image"
   ]
  },
  {
   "cell_type": "code",
   "execution_count": 218,
   "metadata": {
    "id": "Y_MKiuZ4pfDI"
   },
   "outputs": [],
   "source": [
    "import cv2 \n",
    "import numpy as np\n",
    "from matplotlib import pyplot as plt\n",
    "%matplotlib inline"
   ]
  },
  {
   "cell_type": "code",
   "execution_count": 219,
   "metadata": {
    "id": "cBDbIhNapfDI"
   },
   "outputs": [],
   "source": [
    "category_index = label_map_util.create_category_index_from_labelmap(files['LABELMAP'])"
   ]
  },
  {
   "cell_type": "code",
   "execution_count": 234,
   "metadata": {
    "id": "Lx3crOhOzITB"
   },
   "outputs": [],
   "source": [
    "IMAGE_PATH = os.path.join(paths['IMAGE_PATH'], 'test', 'frame886.jpg') #replace frame name with test image frame"
   ]
  },
  {
   "cell_type": "code",
   "execution_count": 235,
   "metadata": {
    "colab": {
     "base_uri": "https://localhost:8080/",
     "height": 269
    },
    "id": "Tpzn1SMry1yK",
    "outputId": "c392a2c5-10fe-4fc4-9998-a1d4c7db2bd3"
   },
   "outputs": [
    {
     "data": {
      "image/png": "[encoded data removed]",
      "text/plain": [
       "<Figure size 640x480 with 1 Axes>"
      ]
     },
     "metadata": {},
     "output_type": "display_data"
    }
   ],
   "source": [
    "img = cv2.imread(IMAGE_PATH)\n",
    "image_np = np.array(img)\n",
    "\n",
    "input_tensor = tf.convert_to_tensor(np.expand_dims(image_np, 0), dtype=tf.float32)\n",
    "detections = detect_fn(input_tensor)\n",
    "\n",
    "num_detections = int(detections.pop('num_detections'))\n",
    "detections = {key: value[0, :num_detections].numpy()\n",
    "              for key, value in detections.items()}\n",
    "detections['num_detections'] = num_detections\n",
    "\n",
    "# detection_classes should be ints.\n",
    "detections['detection_classes'] = detections['detection_classes'].astype(np.int64)\n",
    "\n",
    "label_id_offset = 1\n",
    "image_np_with_detections = image_np.copy()\n",
    "\n",
    "viz_utils.visualize_boxes_and_labels_on_image_array(\n",
    "            image_np_with_detections,\n",
    "            detections['detection_boxes'],\n",
    "            detections['detection_classes']+label_id_offset,\n",
    "            detections['detection_scores'],\n",
    "            category_index,\n",
    "            use_normalized_coordinates=True,\n",
    "            max_boxes_to_draw=5,\n",
    "            min_score_thresh=.8,\n",
    "            agnostic_mode=False)\n",
    "\n",
    "plt.imshow(cv2.cvtColor(image_np_with_detections, cv2.COLOR_BGR2RGB))\n",
    "plt.show()"
   ]
  },
  {
   "cell_type": "code",
   "execution_count": null,
   "metadata": {},
   "outputs": [],
   "source": []
  },
  {
   "cell_type": "markdown",
   "metadata": {},
   "source": [
    "***STOP HERE"
   ]
  },
  {
   "cell_type": "code",
   "execution_count": null,
   "metadata": {},
   "outputs": [],
   "source": []
  },
  {
   "cell_type": "markdown",
   "metadata": {
    "id": "IsNAaYAo0WVL"
   },
   "source": [
    "# 10. Real Time Detections from your Webcam"
   ]
  },
  {
   "cell_type": "code",
   "execution_count": null,
   "metadata": {},
   "outputs": [],
   "source": [
    "!pip uninstall opencv-python-headless -y"
   ]
  },
  {
   "cell_type": "code",
   "execution_count": null,
   "metadata": {
    "id": "o_grs6OGpfDJ"
   },
   "outputs": [],
   "source": [
    "cap = cv2.VideoCapture(0)\n",
    "width = int(cap.get(cv2.CAP_PROP_FRAME_WIDTH))\n",
    "height = int(cap.get(cv2.CAP_PROP_FRAME_HEIGHT))\n",
    "\n",
    "while cap.isOpened(): \n",
    "    ret, frame = cap.read()\n",
    "    image_np = np.array(frame)\n",
    "    \n",
    "    input_tensor = tf.convert_to_tensor(np.expand_dims(image_np, 0), dtype=tf.float32)\n",
    "    detections = detect_fn(input_tensor)\n",
    "    \n",
    "    num_detections = int(detections.pop('num_detections'))\n",
    "    detections = {key: value[0, :num_detections].numpy()\n",
    "                  for key, value in detections.items()}\n",
    "    detections['num_detections'] = num_detections\n",
    "\n",
    "    # detection_classes should be ints.\n",
    "    detections['detection_classes'] = detections['detection_classes'].astype(np.int64)\n",
    "\n",
    "    label_id_offset = 1\n",
    "    image_np_with_detections = image_np.copy()\n",
    "\n",
    "    viz_utils.visualize_boxes_and_labels_on_image_array(\n",
    "                image_np_with_detections,\n",
    "                detections['detection_boxes'],\n",
    "                detections['detection_classes']+label_id_offset,\n",
    "                detections['detection_scores'],\n",
    "                category_index,\n",
    "                use_normalized_coordinates=True,\n",
    "                max_boxes_to_draw=5,\n",
    "                min_score_thresh=.8,\n",
    "                agnostic_mode=False)\n",
    "\n",
    "    cv2.imshow('object detection',  cv2.resize(image_np_with_detections, (800, 600)))\n",
    "    \n",
    "    if cv2.waitKey(10) & 0xFF == ord('q'):\n",
    "        cap.release()\n",
    "        cv2.destroyAllWindows()\n",
    "        break"
   ]
  },
  {
   "cell_type": "markdown",
   "metadata": {
    "id": "rzlM4jt0pfDJ"
   },
   "source": [
    "# 10. Freezing the Graph"
   ]
  },
  {
   "cell_type": "code",
   "execution_count": null,
   "metadata": {
    "id": "n4olHB2npfDJ"
   },
   "outputs": [],
   "source": [
    "FREEZE_SCRIPT = os.path.join(paths['APIMODEL_PATH'], 'research', 'object_detection', 'exporter_main_v2.py ')"
   ]
  },
  {
   "cell_type": "code",
   "execution_count": null,
   "metadata": {
    "id": "0AjO93QDpfDJ"
   },
   "outputs": [],
   "source": [
    "command = \"python {} --input_type=image_tensor --pipeline_config_path={} --trained_checkpoint_dir={} --output_directory={}\".format(FREEZE_SCRIPT ,files['PIPELINE_CONFIG'], paths['CHECKPOINT_PATH'], paths['OUTPUT_PATH'])"
   ]
  },
  {
   "cell_type": "code",
   "execution_count": null,
   "metadata": {
    "colab": {
     "base_uri": "https://localhost:8080/"
    },
    "id": "F6Lsp3tCpfDJ",
    "outputId": "c3828529-bf06-4df5-d7f3-145890ec3edd"
   },
   "outputs": [],
   "source": [
    "print(command)"
   ]
  },
  {
   "cell_type": "code",
   "execution_count": null,
   "metadata": {
    "colab": {
     "base_uri": "https://localhost:8080/"
    },
    "id": "1Sw1ULgHpfDJ",
    "outputId": "6fd441e1-9fc9-4889-d072-3395c21e40b6"
   },
   "outputs": [],
   "source": [
    "!{command}"
   ]
  },
  {
   "cell_type": "markdown",
   "metadata": {
    "id": "wTPmdqaXpfDK"
   },
   "source": [
    "# 11. Conversion to TFJS"
   ]
  },
  {
   "cell_type": "code",
   "execution_count": null,
   "metadata": {
    "colab": {
     "base_uri": "https://localhost:8080/"
    },
    "id": "gZ6UzY_fpfDK",
    "outputId": "0c84722e-1c2b-4002-d857-80827ade828a",
    "scrolled": true
   },
   "outputs": [],
   "source": [
    "!pip install tensorflowjs"
   ]
  },
  {
   "cell_type": "code",
   "execution_count": null,
   "metadata": {
    "id": "0oxbVynHpfDK"
   },
   "outputs": [],
   "source": [
    "command = \"tensorflowjs_converter --input_format=tf_saved_model --output_node_names='detection_boxes,detection_classes,detection_features,detection_multiclass_scores,detection_scores,num_detections,raw_detection_boxes,raw_detection_scores' --output_format=tfjs_graph_model --signature_name=serving_default {} {}\".format(os.path.join(paths['OUTPUT_PATH'], 'saved_model'), paths['TFJS_PATH'])"
   ]
  },
  {
   "cell_type": "code",
   "execution_count": null,
   "metadata": {
    "colab": {
     "base_uri": "https://localhost:8080/"
    },
    "id": "DB2AGNmJpfDK",
    "outputId": "fbc9f747-f511-47e8-df8f-5ea65cef0374"
   },
   "outputs": [],
   "source": [
    "print(command)"
   ]
  },
  {
   "cell_type": "code",
   "execution_count": null,
   "metadata": {
    "colab": {
     "base_uri": "https://localhost:8080/"
    },
    "id": "K7rfT4-hpfDK",
    "outputId": "532707fd-6feb-4bc6-84a3-325b5d16303c"
   },
   "outputs": [],
   "source": [
    "!{command}"
   ]
  },
  {
   "cell_type": "code",
   "execution_count": null,
   "metadata": {
    "id": "o8_hm-itpfDK"
   },
   "outputs": [],
   "source": [
    "# Test Code: https://github.com/nicknochnack/RealTimeSignLanguageDetectionwithTFJS"
   ]
  },
  {
   "cell_type": "markdown",
   "metadata": {
    "id": "VtUw73FHpfDK"
   },
   "source": [
    "# 12. Conversion to TFLite"
   ]
  },
  {
   "cell_type": "code",
   "execution_count": null,
   "metadata": {
    "id": "XviMtewLpfDK"
   },
   "outputs": [],
   "source": [
    "TFLITE_SCRIPT = os.path.join(paths['APIMODEL_PATH'], 'research', 'object_detection', 'export_tflite_graph_tf2.py ')"
   ]
  },
  {
   "cell_type": "code",
   "execution_count": null,
   "metadata": {
    "id": "us86cjC4pfDL"
   },
   "outputs": [],
   "source": [
    "command = \"python {} --pipeline_config_path={} --trained_checkpoint_dir={} --output_directory={}\".format(TFLITE_SCRIPT ,files['PIPELINE_CONFIG'], paths['CHECKPOINT_PATH'], paths['TFLITE_PATH'])"
   ]
  },
  {
   "cell_type": "code",
   "execution_count": null,
   "metadata": {
    "colab": {
     "base_uri": "https://localhost:8080/"
    },
    "id": "n1r5YO3rpfDL",
    "outputId": "5fcdf7a4-eee2-4365-f1ca-1751968379ea"
   },
   "outputs": [],
   "source": [
    "print(command)"
   ]
  },
  {
   "cell_type": "code",
   "execution_count": null,
   "metadata": {
    "colab": {
     "base_uri": "https://localhost:8080/"
    },
    "id": "I-xWpHN8pfDL",
    "outputId": "7f6bacd8-d077-43b5-c131-5b081fba24a4"
   },
   "outputs": [],
   "source": [
    "!{command}"
   ]
  },
  {
   "cell_type": "code",
   "execution_count": null,
   "metadata": {
    "id": "iJfYMbN6pfDL"
   },
   "outputs": [],
   "source": [
    "FROZEN_TFLITE_PATH = os.path.join(paths['TFLITE_PATH'], 'saved_model')\n",
    "TFLITE_MODEL = os.path.join(paths['TFLITE_PATH'], 'saved_model', 'detect.tflite')"
   ]
  },
  {
   "cell_type": "code",
   "execution_count": null,
   "metadata": {},
   "outputs": [],
   "source": [
    "command = \"tflite_convert \\\n",
    "--saved_model_dir={} \\\n",
    "--output_file={} \\\n",
    "--input_shapes=1,300,300,3 \\\n",
    "--input_arrays=normalized_input_image_tensor \\\n",
    "--output_arrays='TFLite_Detection_PostProcess','TFLite_Detection_PostProcess:1','TFLite_Detection_PostProcess:2','TFLite_Detection_PostProcess:3' \\\n",
    "--inference_type=FLOAT \\\n",
    "--allow_custom_ops\".format(FROZEN_TFLITE_PATH, TFLITE_MODEL, )"
   ]
  },
  {
   "cell_type": "code",
   "execution_count": null,
   "metadata": {
    "colab": {
     "base_uri": "https://localhost:8080/"
    },
    "id": "E8GwUeoFpfDL",
    "outputId": "fac43ea4-cc85-471b-a362-e994b06fd583"
   },
   "outputs": [],
   "source": [
    "print(command)"
   ]
  },
  {
   "cell_type": "code",
   "execution_count": null,
   "metadata": {
    "colab": {
     "base_uri": "https://localhost:8080/"
    },
    "id": "Nbd7gqHMpfDL",
    "outputId": "7c8fe6d5-2415-4641-8548-39d425c202f7"
   },
   "outputs": [],
   "source": [
    "!{command}"
   ]
  },
  {
   "cell_type": "markdown",
   "metadata": {
    "id": "5NQqZRdA21Uc"
   },
   "source": [
    "# 13. Zip and Export Models "
   ]
  },
  {
   "cell_type": "code",
   "execution_count": null,
   "metadata": {
    "id": "tTVTGCQp2ZJJ"
   },
   "outputs": [],
   "source": [
    "!tar -czf models.tar.gz {paths['CHECKPOINT_PATH']}"
   ]
  },
  {
   "cell_type": "code",
   "execution_count": null,
   "metadata": {
    "colab": {
     "base_uri": "https://localhost:8080/"
    },
    "id": "whShhB0x3PYJ",
    "outputId": "b773201d-35c9-46a8-b893-4a76bd4d5d97"
   },
   "outputs": [],
   "source": [
    "from google.colab import drive\n",
    "drive.mount('/content/drive')"
   ]
  }
 ],
 "metadata": {
  "accelerator": "GPU",
  "colab": {
   "name": "3. Training and Detection.ipynb",
   "provenance": []
  },
  "kernelspec": {
   "display_name": "tfod",
   "language": "python",
   "name": "tfod"
  },
  "language_info": {
   "codemirror_mode": {
    "name": "ipython",
    "version": 3
   },
   "file_extension": ".py",
   "mimetype": "text/x-python",
   "name": "python",
   "nbconvert_exporter": "python",
   "pygments_lexer": "ipython3",
   "version": "3.10.6"
  }
 },
 "nbformat": 4,
 "nbformat_minor": 1
}
